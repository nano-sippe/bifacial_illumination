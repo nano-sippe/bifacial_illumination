{
 "cells": [
  {
   "cell_type": "markdown",
   "metadata": {},
   "source": [
    "# A class for module illumination\n",
    "Klaus Jäger, 2 October 2019\n",
    "\n",
    "With respect to v0.3, the angle definitions were altered such that they are compatible with the convention used in the papers. This version will be published together with the OpEx manuscript with the detailed illumination model."
   ]
  },
  {
   "cell_type": "code",
   "execution_count": 2,
   "metadata": {},
   "outputs": [],
   "source": [
    "import numpy as np\n",
    "import matplotlib.pyplot as plt\n",
    "from scipy.interpolate import pchip_interpolate\n",
    "from scipy.integrate import quad\n",
    "import time\n",
    "from matplotlib import rc\n",
    "from matplotlib.patches import Rectangle\n",
    "import pysolar.solar as sol\n",
    "import datetime\n",
    "import timeit\n",
    "%matplotlib inline"
   ]
  },
  {
   "cell_type": "code",
   "execution_count": 3,
   "metadata": {},
   "outputs": [],
   "source": [
    "date = datetime.datetime(2019, 6, 20, 12, 0, 0, 0, tzinfo = datetime.timezone(datetime.timedelta(hours=2)) )"
   ]
  },
  {
   "cell_type": "code",
   "execution_count": 4,
   "metadata": {},
   "outputs": [
    {
     "name": "stdout",
     "output_type": "stream",
     "text": [
      "149.2367608365414 -0.001645835000090301\n"
     ]
    }
   ],
   "source": [
    "start = timeit.timeit()\n",
    "for i in range(10):\n",
    "    temp = sol.get_azimuth(52.5, 13.25, date)\n",
    "end = timeit.timeit()\n",
    "print(temp, end - start)"
   ]
  },
  {
   "cell_type": "code",
   "execution_count": 5,
   "metadata": {},
   "outputs": [
    {
     "name": "stdout",
     "output_type": "stream",
     "text": [
      "31.874068541748763 144.11858303144155\n"
     ]
    },
    {
     "name": "stderr",
     "output_type": "stream",
     "text": [
      "/home/peter/anaconda3/envs/ds/lib/python3.7/site-packages/pysolar/solartime.py:112: UserWarning: I don't know about leap seconds after 2018\n",
      "  (leap_seconds_base_year + len(leap_seconds_adjustments) - 1)\n"
     ]
    }
   ],
   "source": [
    "date = datetime.datetime(2019, 9, 23, 11, 0, 0, 0, tzinfo = datetime.timezone(datetime.timedelta(hours=2)) )\n",
    "print(sol.get_altitude(52.5, 13.25, date),sol.get_azimuth(52.5, 13.25, date))"
   ]
  },
  {
   "cell_type": "markdown",
   "metadata": {},
   "source": [
    "### Preamble"
   ]
  },
  {
   "cell_type": "raw",
   "metadata": {},
   "source": [
    "IRRADIANCE-KOMPONENTEN AUF DEM MODUL\n",
    "(alle Komponenten werden ins Dictionary geschrieben)\n",
    "\n",
    "Arrays mit Länge \"module_steps\":\n",
    "-------------------------------------------------\n",
    "irradiance_module_front_sky_direct\n",
    "irradiance_module_back_sky_direct\n",
    "irradiance_module_front_sky_diffuse\n",
    "irradiance_module_back_sky_diffuse\n",
    "irradiance_module_front_ground_diffuse\n",
    "irradiance_module_back_ground_diffuse\n",
    "irradiance_module_front_ground_direct\n",
    "irradiance_module_back_ground_direct\n",
    "\n",
    "Zahlenwerte:\n",
    "------------\n",
    "irradiance_module_front_sky_direct_mean\n",
    "irradiance_module_back_sky_direct_mean\n",
    "irradiance_module_front_sky_diffuse_mean\n",
    "irradiance_module_back_sky_diffuse_mean\n",
    "irradiance_module_front_ground_diffuse_mean\n",
    "irradiance_module_back_ground_diffuse_mean\n",
    "irradiance_module_front_ground_direct_mean\n",
    "irradiance_module_back_ground_direct_mean"
   ]
  },
  {
   "cell_type": "code",
   "execution_count": 6,
   "metadata": {},
   "outputs": [],
   "source": [
    "# some useful functions\n",
    "def fmod_pos(x,y):\n",
    "    temp = np.fmod(x,y)\n",
    "    if temp < 0.0:\n",
    "        temp = temp + y\n",
    "    return temp\n",
    "\n",
    "def fmod_pos_array(x,y):\n",
    "    temp = np.zeros(len(x))\n",
    "    for i,xi in enumerate(x):\n",
    "        temp[i] = fmod_pos(xi,y)\n",
    "    return temp\n",
    "\n",
    "def section(k_1,d_1,k_2,d_2): # intersection of two lines\n",
    "    section_x = (d_1-d_2)/(k_2-k_1)\n",
    "    section_y = k_1*section_x+d_1\n",
    "    return (section_x,section_y)\n",
    "\n",
    "def deg2rad(theta_deg):\n",
    "    return theta_deg*np.pi/180.\n",
    "\n",
    "def rad2deg(theta_rad):\n",
    "    return theta_rad/np.pi*180."
   ]
  },
  {
   "cell_type": "markdown",
   "metadata": {},
   "source": [
    "### Class definition"
   ]
  },
  {
   "cell_type": "code",
   "execution_count": 7,
   "metadata": {},
   "outputs": [],
   "source": [
    "class ModuleIllumination:\n",
    "    def __init__(self, InputDict):\n",
    "        self.input = InputDict\n",
    "        self.variables()\n",
    "        self.module()\n",
    "        self.calc_irradiance_module_sky_direct()\n",
    "        self.calc_irradiance_module_sky_diffuse()\n",
    "        self.calc_radiance_ground_direct()\n",
    "        self.calc_radiance_ground_diffuse()\n",
    "        self.calc_module_ground_matrix()\n",
    "        self.calc_irradiance_module_ground_direct()\n",
    "        self.calc_irradiance_module_ground_diffuse()\n",
    "\n",
    "    def variables(self): # Import all the variables \n",
    "        self.L = self.input['L']\n",
    "        self.theta_m_rad = deg2rad(self.input['theta_m_deg'])\n",
    "        self.H = self.input['H']\n",
    "        self.D = self.input['D']\n",
    "        self.DNI = self.input['DNI']\n",
    "        self.DHI = self.input['DHI']\n",
    "        self.theta_S_rad = deg2rad(self.input['theta_S_deg'])\n",
    "        self.phi_S_rad = deg2rad(self.input['phi_S_deg'])\n",
    "        self.albedo = self.input['albedo']\n",
    "        self.ground_steps = self.input['ground_steps']\n",
    "        self.module_steps = self.input['module_steps']\n",
    "        self.angle_steps  = self.input['angle_steps']\n",
    "        #Define variables derived from these base variables\n",
    "        self.x_g_array = np.linspace(0,self.D,self.ground_steps)\n",
    "        self.x_g_distance = self.D/(self.ground_steps-1) # distance between two points on x_g_array\n",
    "        #self.l_array = np.linspace(0,self.L,self.module_steps) # OLD, changed on 26 April 2019!\n",
    "        self.l_array = np.linspace(self.L/self.module_steps,self.L,self.module_steps)-0.5*self.L/self.module_steps\n",
    "        # normal angle of the sun\n",
    "        self.n_S = np.array([np.sin(self.theta_S_rad)*np.cos(-self.phi_S_rad),\n",
    "                             np.sin(self.theta_S_rad)*np.sin(-self.phi_S_rad),\n",
    "                             np.cos(self.theta_S_rad)])\n",
    "        # initializing the results dictionary\n",
    "        self.results = {}\n",
    "        \n",
    "    def module(self): # some functions and values for the PV module\n",
    "        self.H_m = self.L*np.sin(self.theta_m_rad)\n",
    "        self.e_m = np.array([np.cos(self.theta_m_rad),np.sin(self.theta_m_rad)]) # unit vector along the module\n",
    "        self.n_m = np.array([-np.sin(self.theta_m_rad),np.cos(self.theta_m_rad)]) # normal to the module\n",
    "        self.n_m_3D = np.array([self.n_m[0],0,self.n_m[1]]) # normal to the module\n",
    "        \n",
    "    # IRRADIANCE ON MODULE FROM THE SKY\n",
    "    def calc_irradiance_module_sky_direct(self):\n",
    "        temp_front = np.zeros(self.module_steps)\n",
    "        temp_back  = np.zeros(self.module_steps)\n",
    "        self.cos_alpha_mS = np.dot(self.n_S,self.n_m_3D) # cosine of angle between Sun and module normal\n",
    "        angle_term = np.cos(self.theta_m_rad)-np.sin(self.theta_m_rad)*self.n_S[0]/self.n_S[2] # needed for calculating shadow on module\n",
    "        if self.cos_alpha_mS > 0: #sunlight hits on front\n",
    "            l_shadow = self.L-self.D/angle_term\n",
    "            temp_front[l_shadow < self.l_array] = self.DNI*self.cos_alpha_mS # DMI = Direct Module Irradiance\n",
    "        else: #sunlight hits on back\n",
    "            l_shadow = self.L+self.D/angle_term\n",
    "            temp_back[l_shadow < self.l_array] = self.DNI*np.abs(self.cos_alpha_mS) \n",
    "        self.results['irradiance_module_front_sky_direct'] = temp_front\n",
    "        self.results['irradiance_module_back_sky_direct']  = temp_back\n",
    "        self.results['irradiance_module_front_sky_direct_mean'] = np.mean(temp_front)\n",
    "        self.results['irradiance_module_back_sky_direct_mean']  = np.mean(temp_back)\n",
    "            \n",
    "    def calc_irradiance_module_sky_diffuse(self):\n",
    "        alpha_1 = -np.pi/2.0\n",
    "        for fb in ['front','back']:\n",
    "            field_name = 'irradiance_module_' + fb + '_sky_diffuse'\n",
    "            temp = np.zeros(self.module_steps)\n",
    "            for i,l in enumerate(self.l_array):\n",
    "                if fb == 'front':\n",
    "                    vector_2 = (self.L-l)*self.e_m - np.array([self.D,0])\n",
    "                if fb == 'back':\n",
    "                    vector_2 = (self.L-l)*self.e_m + np.array([self.D,0])\n",
    "                alpha_2 = self.alpha(vector_2,fb)\n",
    "                temp[i] = self.DHI * (np.sin(alpha_2)-np.sin(alpha_1))/2.0\n",
    "            self.results[field_name] = temp\n",
    "            self.results[field_name + '_mean'] = np.mean(temp)\n",
    "            # Note that for the back the nomenclature in the OpEx manuscript differs:\n",
    "            # epsilon_1 = - alpha_2\n",
    "            # epsilon_2 = - alpha_1 = pi/2\n",
    "        \n",
    "    # RADIANCE OF THE GROUND\n",
    "    # radiance of the ground originating from direct skylight\n",
    "    def calc_radiance_ground_direct(self):\n",
    "        self.irradiance_ground_direct_received = np.zeros(self.ground_steps)\n",
    "        # x-coordinates of shadow: \n",
    "        s_A = -self.H/self.n_S[2]\n",
    "        x_A = s_A * self.n_S[0]\n",
    "        s_B = (-self.H-self.L*self.e_m[1])/self.n_S[2]\n",
    "        x_B = self.L*self.e_m[0]+s_B * self.n_S[0]\n",
    "        if x_B < x_A: # Sun from back\n",
    "            x_A_new = x_B\n",
    "            x_B_new = x_A\n",
    "            x_A = x_A_new\n",
    "            x_B = x_B_new\n",
    "        length_shadow = x_B - x_A\n",
    "        if length_shadow < self.D: # only in this case direct Sunlight will hit the ground\n",
    "            x_A_red = fmod_pos(x_A,self.D) # reduce such that x_A_red is in [0,D]\n",
    "            x_B_red = x_B - x_A + x_A_red          \n",
    "            if x_B_red < self.D:\n",
    "                for i,x in enumerate(self.x_g_array):\n",
    "                    if (x < x_A_red) or (x > x_B_red): # Instead of  (x > x_B_red) in v0.1 (x > x_A_red)\n",
    "                        self.irradiance_ground_direct_received[i] = self.DNI * np.cos(self.theta_S_rad)\n",
    "            else:\n",
    "                x_B_red = x_B_red - self.D # this was after the enumerate -> error!\n",
    "                for i,x in enumerate(self.x_g_array):\n",
    "                    if (x > x_B_red) and (x < x_A_red):\n",
    "                        #print(x)\n",
    "                        self.irradiance_ground_direct_received[i] = self.DNI * np.cos(self.theta_S_rad)\n",
    "        self.results['radiance_ground_direct_emitted']  = self.irradiance_ground_direct_received / np.pi * self.albedo # division by pi converts irradiance into radiance assuming Lambertian scattering\n",
    "    \n",
    "    \n",
    "    # functions for radiance of the ground originating from diffuse skylight  \n",
    "    def a_i(self,i,x_g): # Vector between points (x_g,-H) and A_i (lower end of i'th module)\n",
    "        return np.array([i*self.D,0])- np.array([x_g,-self.H])\n",
    "    \n",
    "    def b_i(self,i,x_g): # Vector between points (x_g,-H) and B_i (upper end of i'th module)\n",
    "        return self.L*self.e_m + np.array([i*self.D,0])- np.array([x_g,-self.H])\n",
    "    \n",
    "    # radiance of the ground originating from diffuse skylight\n",
    "    # this method leads to the same results as the one developped earlier (v0.1) but is much faster.\n",
    "    def calc_radiance_ground_diffuse(self):\n",
    "        self.irradiance_ground_diffuse_received = np.zeros(self.ground_steps)\n",
    "        sin_zeta = np.zeros(4)\n",
    "        sin_eta  = np.zeros(4)\n",
    "        for i,x_g in enumerate(self.x_g_array):\n",
    "            for j in range(4):\n",
    "                a = self.a_i(j-1,x_g)\n",
    "                b = self.b_i(j-1,x_g)\n",
    "                sin_eta[j]  = a[0]/np.linalg.norm(a)\n",
    "                sin_zeta[j] = b[0]/np.linalg.norm(b)\n",
    "                \n",
    "            #middle section:\n",
    "            temp = min(sin_eta[2],sin_zeta[2])-sin_zeta[1]\n",
    "            #front section\n",
    "            if sin_zeta[0] < sin_eta[1]:\n",
    "                temp = temp + sin_eta[1] - sin_zeta[0]\n",
    "            # back section\n",
    "            if max(sin_eta[2],sin_zeta[2]) < sin_zeta[3]:\n",
    "                temp = temp + sin_zeta[3] - max(sin_eta[2],sin_zeta[2])\n",
    "\n",
    "            self.irradiance_ground_diffuse_received[i] = 0.5*temp*self.DHI \n",
    "        self.results['radiance_ground_diffuse_emitted']  = self.irradiance_ground_diffuse_received / np.pi * self.albedo # division by pi converts irradiance into radiance assuming Lambertian scattering\n",
    "       \n",
    "    # IRRADIANCE ON MODULE FROM THE GROUND\n",
    "    # some functions\n",
    "    def alpha(self,vector,front_back): #calculate angle between n_m and vector for front and back sides\n",
    "        if front_back == 'front':\n",
    "            cos_alpha = np.dot(vector, self.n_m)/np.linalg.norm(vector)\n",
    "        elif front_back == 'back':\n",
    "            cos_alpha = np.dot(vector,-self.n_m)/np.linalg.norm(vector)\n",
    "        else:\n",
    "            print('ERROR! Value neither front nor back')\n",
    "            cos_alpha = 1./0.\n",
    "        sign_alpha = np.sign(self.n_m[0]*vector[1]-self.n_m[1]*vector[0])#sign such that vectors pointing below n_m positive\n",
    "        return sign_alpha*np.arccos(cos_alpha)\n",
    "    \n",
    "\n",
    "    #calculate matrix that determines distribution of light from ground on the module\n",
    "    def calc_module_ground_matrix(self):\n",
    "        for fb in ['front','back']:\n",
    "            intensity_matrix = np.zeros((self.module_steps, self.angle_steps, self.ground_steps))\n",
    "            field_name = 'module_' + fb + '_ground_matrix'\n",
    "            t = time.process_time()\n",
    "            for i,l in enumerate(self.l_array): # remove 0th entry as otherwise the ray to calculate alpha1 would be parallel to x-axis!!!\n",
    "                vector_2 = -l*self.e_m\n",
    "                # position of the line starting at point on module via lowest pt. of module\n",
    "                x_g_2 = l*self.e_m[0] - (l*self.e_m[1]+self.H)/vector_2[1]*vector_2[0]\n",
    "                if fb == 'front':\n",
    "                    vector_1 = np.array([-self.D,0])-l*self.e_m\n",
    "                if fb == 'back':\n",
    "                    vector_1 = np.array([ self.D,0])-l*self.e_m\n",
    "                x_g_1 = l*self.e_m[0] - (l*self.e_m[1]+self.H)/vector_1[1]*vector_1[0]\n",
    "                if fb == 'front':\n",
    "                    lower_index = int(round(x_g_1/self.x_g_distance))\n",
    "                    upper_index = int(round(x_g_2/self.x_g_distance))\n",
    "                if fb == 'back':\n",
    "                    lower_index = int(round(x_g_2/self.x_g_distance))+1 # 20191009 ensure that point ref. to lower_index > x_g_2: angle cannot be > 90 degrees\n",
    "                    upper_index = int(round(x_g_1/self.x_g_distance))\n",
    "                \n",
    "                \n",
    "                #index_array = np.arange(lower_index,upper_index+1) # changed on 20191009\n",
    "                index_array = np.arange(lower_index,upper_index) # changed on 20191009\n",
    "                x_g_array_full = self.x_g_distance*index_array\n",
    "                alpha_array = np.zeros(len(index_array))\n",
    "                #addend_array = np.zeros(len(index_array))\n",
    "                for j,x_g in enumerate(x_g_array_full):\n",
    "                    vector = np.array([x_g,-self.H])-l*self.e_m\n",
    "                    alpha_array[j] = self.alpha(vector,fb)\n",
    "                #if fb == 'front':\n",
    "                #    print(alpha_array[-1]*180/np.pi)\n",
    "                self.test = 0\n",
    "                self.test2 = np.sin(alpha_array[-1]) - np.sin(alpha_array[0])\n",
    "                self.upper = alpha_array[-1]\n",
    "                self.lower = alpha_array[0]\n",
    "                for j,x_g in enumerate(x_g_array_full):\n",
    "                    if j == 0:\n",
    "                        delta_alpha = 0.5*(alpha_array[1]-alpha_array[0])\n",
    "                    elif j == len(index_array)-1:\n",
    "                        delta_alpha = 0.5*(alpha_array[j]-alpha_array[j-1])\n",
    "                    else:\n",
    "                        delta_alpha = 0.5*(alpha_array[j+1]-alpha_array[j-1])\n",
    "                    #print(np.mod(index_array[j],self.ground_steps))\n",
    "                    cos_alpha = abs(np.cos(alpha_array[j]))\n",
    "                    angle_index = np.int(np.floor(alpha_array[j]*self.angle_steps/np.pi+self.angle_steps/2.0))\n",
    "                    if angle_index == self.angle_steps:\n",
    "                        angle_index = angle_index-1\n",
    "                    ground_index = np.mod(index_array[j],self.ground_steps)\n",
    "                    self.test += abs(cos_alpha)*abs(delta_alpha)\n",
    "                    intensity_matrix[i,angle_index,ground_index] += np.pi/2.0*cos_alpha*abs(delta_alpha)\n",
    "            self.results[field_name] = intensity_matrix\n",
    "            self.results[field_name + '_time'] = time.process_time()-t\n",
    "    \n",
    "    #irradiance on the module from the ground originating from direct skylight  \n",
    "    def calc_irradiance_module_ground_direct(self): \n",
    "        for fb in ['front','back']:\n",
    "            field_name = 'irradiance_module_' + fb + '_ground_direct'\n",
    "            matrix = self.results['module_' + fb + '_ground_matrix']\n",
    "            temp = np.sum(matrix, axis = 1)\n",
    "            self.results[field_name] = (temp*self.results['radiance_ground_direct_emitted']).sum(axis=1)\n",
    "            self.results[field_name + '_mean'] = np.mean(self.results[field_name])\n",
    "            \n",
    "    #irradiance on the module from the ground originating from diffuse skylight  \n",
    "    def calc_irradiance_module_ground_diffuse(self): \n",
    "        for fb in ['front','back']:\n",
    "            field_name = 'irradiance_module_' + fb + '_ground_diffuse'\n",
    "            matrix = self.results['module_' + fb + '_ground_matrix']\n",
    "            temp = np.sum(matrix, axis = 1)\n",
    "            self.results[field_name] = (temp*self.results['radiance_ground_diffuse_emitted']).sum(axis=1)   \n",
    "            self.results[field_name + '_mean'] = np.mean(self.results[field_name])"
   ]
  },
  {
   "cell_type": "code",
   "execution_count": 34,
   "metadata": {},
   "outputs": [
    {
     "data": {
      "text/plain": [
       "(<matplotlib.axes._subplots.AxesSubplot at 0x7fb3f87a06a0>,\n",
       " <matplotlib.colorbar.Colorbar at 0x7fb3f46bb828>)"
      ]
     },
     "execution_count": 34,
     "metadata": {},
     "output_type": "execute_result"
    },
    {
     "data": {
      "image/png": "[encoded data removed]",
      "text/plain": [
       "<Figure size 432x288 with 2 Axes>"
      ]
     },
     "metadata": {
      "needs_background": "light"
     },
     "output_type": "display_data"
    }
   ],
   "source": [
    "import seaborn as sns\n",
    "\n",
    "sns.heatmap(GI_1238.results['module_back_ground_matrix'].sum(axis=1))"
   ]
  },
  {
   "cell_type": "code",
   "execution_count": 37,
   "metadata": {},
   "outputs": [
    {
     "data": {
      "text/plain": [
       "0.5172620965539474"
      ]
     },
     "execution_count": 37,
     "metadata": {},
     "output_type": "execute_result"
    }
   ],
   "source": [
    "GI_1238.results['radiance_ground_direct_emitted']\n",
    "GI_1238.theta_S_rad"
   ]
  },
  {
   "cell_type": "markdown",
   "metadata": {},
   "source": [
    "### Test the class"
   ]
  },
  {
   "cell_type": "code",
   "execution_count": 8,
   "metadata": {},
   "outputs": [],
   "source": [
    "# Define the dictionary for the class\n",
    "InputDict = {\n",
    "    'L': 1.960,# module length, standard is 1650 mm or 1960 mm\n",
    "    'theta_m_deg': 52., # Angle of the module with respect to the ground (first guess optimal theta_m = latitude on Earth)\n",
    "    'D': 7.3, # distance between modules\n",
    "    'H': 0.500, # height of module base above ground\n",
    "    'DNI': 1, # direct normal irradiance\n",
    "    'DHI': 1, # diffuse horizontal irradiance\n",
    "    'theta_S_deg': 90-32.8, # zenith of the Sun (Berlin, 2019-09-20, 11:00 CEST)\n",
    "    'phi_S_deg': 143.3, # azimuth of the Sun (Berlin, 2019-09-20, 11:00 CEST)\n",
    "    'albedo': 0.3, # albedo of the ground\n",
    "    'ground_steps': 101, #number of steps into which irradiance on the ground is evaluated in the interval [0,D]\n",
    "    'module_steps': 12, # SET THIS NUMBER HIGHER FOR REAL EVALUATION! (SUGGESTION 20) number of lengths steps at which irradiance is evaluated on the module\n",
    "    'angle_steps': 180 # Number at which angle discretization of ground light on module should be set\n",
    "}"
   ]
  },
  {
   "cell_type": "code",
   "execution_count": 9,
   "metadata": {},
   "outputs": [],
   "source": [
    "GI = ModuleIllumination(InputDict) # GroundIllumination"
   ]
  },
  {
   "cell_type": "code",
   "execution_count": 10,
   "metadata": {},
   "outputs": [],
   "source": [
    "hour_range = np.linspace(4,21,18,dtype = int)\n",
    "minute_range = np.linspace(0,50,6,dtype = int)\n",
    "time_array = np.zeros(len(hour_range)*len(minute_range))\n",
    "ground_direct = np.zeros([3,len(hour_range)*len(minute_range),InputDict['ground_steps']])\n",
    "month_array = [6,8,11]"
   ]
  },
  {
   "cell_type": "code",
   "execution_count": 11,
   "metadata": {},
   "outputs": [
    {
     "name": "stdout",
     "output_type": "stream",
     "text": [
      "4 o clock\n",
      "5 o clock\n",
      "6 o clock\n",
      "7 o clock\n",
      "8 o clock\n",
      "9 o clock\n",
      "10 o clock\n",
      "11 o clock\n",
      "12 o clock\n",
      "13 o clock\n",
      "14 o clock\n",
      "15 o clock\n",
      "16 o clock\n",
      "17 o clock\n",
      "18 o clock\n",
      "19 o clock\n",
      "20 o clock\n",
      "21 o clock\n",
      "4 o clock\n",
      "5 o clock\n",
      "6 o clock\n",
      "7 o clock\n",
      "8 o clock\n",
      "9 o clock\n",
      "10 o clock\n",
      "11 o clock\n",
      "12 o clock\n",
      "13 o clock\n",
      "14 o clock\n",
      "15 o clock\n",
      "16 o clock\n",
      "17 o clock\n",
      "18 o clock\n",
      "19 o clock\n",
      "20 o clock\n",
      "21 o clock\n",
      "4 o clock\n",
      "5 o clock\n",
      "6 o clock\n",
      "7 o clock\n",
      "8 o clock\n",
      "9 o clock\n",
      "10 o clock\n",
      "11 o clock\n",
      "12 o clock\n",
      "13 o clock\n",
      "14 o clock\n",
      "15 o clock\n",
      "16 o clock\n",
      "17 o clock\n",
      "18 o clock\n",
      "19 o clock\n",
      "20 o clock\n",
      "21 o clock\n"
     ]
    }
   ],
   "source": [
    "for k,month in enumerate(month_array):\n",
    "    for i,hh in enumerate(hour_range):\n",
    "        print(hh,'o clock')\n",
    "        for j,mm in enumerate(minute_range):\n",
    "            time_array[6*i+j] = hh + mm/60\n",
    "            date_temp = datetime.datetime(2019, month, 20, hh, mm, 0, 0, tzinfo = datetime.timezone(datetime.timedelta(hours=2)) )\n",
    "            SunDict = {\n",
    "                'theta_S_deg': 90 - sol.get_altitude(52.5, 13.25, date_temp),\n",
    "                'phi_S_deg': sol.get_azimuth(52.5, 13.25, date_temp)\n",
    "            }\n",
    "            # Check if Sun is above the horizon\n",
    "            if SunDict['theta_S_deg'] < 90:\n",
    "                InputDict.update(SunDict)\n",
    "                GI = ModuleIllumination(InputDict)\n",
    "                ground_direct[k,i*6+j] = GI.irradiance_ground_direct_received"
   ]
  },
  {
   "cell_type": "code",
   "execution_count": 12,
   "metadata": {},
   "outputs": [
    {
     "name": "stdout",
     "output_type": "stream",
     "text": [
      "0.8740905387358129\n"
     ]
    }
   ],
   "source": [
    "print(np.max(ground_direct))"
   ]
  },
  {
   "cell_type": "markdown",
   "metadata": {},
   "source": [
    "## Figures for OpEx"
   ]
  },
  {
   "cell_type": "code",
   "execution_count": 13,
   "metadata": {},
   "outputs": [],
   "source": [
    "plt.rcParams['font.size'] = 8.0\n",
    "#plt.rcParams['font.family'] = 'sans'\n",
    "plt.rcParams['text.latex.preamble'] = r'\\usepackage{arev}'\n",
    "rc('text', usetex=True)"
   ]
  },
  {
   "cell_type": "code",
   "execution_count": 14,
   "metadata": {},
   "outputs": [],
   "source": [
    "#x_ticks = np.linspace(0,100,6,dtype=int)\n",
    "y_ticks = np.linspace(0,96,9,dtype=int)\n",
    "x_ticks = [0,28,55,82]"
   ]
  },
  {
   "cell_type": "code",
   "execution_count": 16,
   "metadata": {},
   "outputs": [
    {
     "data": {
      "image/png": "[encoded data removed]",
      "text/plain": [
       "<Figure size 144x144 with 1 Axes>"
      ]
     },
     "metadata": {
      "needs_background": "light"
     },
     "output_type": "display_data"
    },
    {
     "data": {
      "image/png": "[encoded data removed]",
      "text/plain": [
       "<Figure size 144x144 with 1 Axes>"
      ]
     },
     "metadata": {
      "needs_background": "light"
     },
     "output_type": "display_data"
    },
    {
     "data": {
      "image/png": "[encoded data removed]",
      "text/plain": [
       "<Figure size 144x144 with 1 Axes>"
      ]
     },
     "metadata": {
      "needs_background": "light"
     },
     "output_type": "display_data"
    }
   ],
   "source": [
    "for i in range(3):\n",
    "    fig, ax = plt.subplots(figsize=(2,2))\n",
    "    im = ax.imshow(ground_direct[i],origin='lower',vmax=0.88)\n",
    "    ax.set_xticks(x_ticks)\n",
    "    ax.set_xticklabels(np.round(GI.x_g_array[x_ticks],1))\n",
    "    ax.set_yticks(y_ticks)\n",
    "    ax.set_yticklabels(time_array[y_ticks])\n",
    "    ax.set_xlabel('distance (m)')\n",
    "    ax.set_ylabel('time (h)')\n",
    "    #if i==2:\n",
    "    #    cbar = fig.colorbar(im, shrink =0.8, ax=ax)\n",
    "    #    cbar.set_label('geom.\\ dist.\\ func.\\ $\\gamma_\\mathrm{dir}$')\n",
    "    figname = 'figures/ground_illum_{}.pdf'.format(i)\n",
    "    plt.tight_layout()\n",
    "    #plt.savefig(figname, format='pdf', dpi=300)\n",
    "    plt.show()"
   ]
  },
  {
   "cell_type": "code",
   "execution_count": 17,
   "metadata": {},
   "outputs": [
    {
     "name": "stdout",
     "output_type": "stream",
     "text": [
      "[0.    2.044 4.015 5.986]\n"
     ]
    }
   ],
   "source": [
    "print(GI.x_g_array[[0,28,55,82]])"
   ]
  },
  {
   "cell_type": "code",
   "execution_count": 18,
   "metadata": {},
   "outputs": [
    {
     "name": "stdout",
     "output_type": "stream",
     "text": [
      "4 o clock\n",
      "5 o clock\n",
      "6 o clock\n",
      "7 o clock\n"
     ]
    },
    {
     "name": "stderr",
     "output_type": "stream",
     "text": [
      "/home/peter/anaconda3/envs/ds/lib/python3.7/site-packages/pysolar/solartime.py:112: UserWarning: I don't know about leap seconds after 2018\n",
      "  (leap_seconds_base_year + len(leap_seconds_adjustments) - 1)\n"
     ]
    },
    {
     "name": "stdout",
     "output_type": "stream",
     "text": [
      "8 o clock\n",
      "9 o clock\n",
      "10 o clock\n",
      "11 o clock\n",
      "12 o clock\n",
      "13 o clock\n",
      "14 o clock\n",
      "15 o clock\n",
      "16 o clock\n",
      "17 o clock\n",
      "18 o clock\n",
      "19 o clock\n",
      "20 o clock\n",
      "21 o clock\n"
     ]
    }
   ],
   "source": [
    "ground_direct = np.zeros([len(hour_range)*len(minute_range),InputDict['ground_steps']])\n",
    "for i,hh in enumerate(hour_range):\n",
    "    print(hh,'o clock')\n",
    "    for j,mm in enumerate(minute_range):\n",
    "        time_array[6*i+j] = hh + mm/60\n",
    "        date_temp = datetime.datetime(2019, 11, 20, hh, mm, 0, 0, tzinfo = datetime.timezone(datetime.timedelta(hours=1)) )\n",
    "        SunDict = {\n",
    "            'theta_S_deg': 90 - sol.get_altitude(52.5, 13.25, date_temp),\n",
    "            'phi_S_deg': sol.get_azimuth(52.5, 13.25, date_temp)\n",
    "        }\n",
    "        # Check if Sun is above the horizon\n",
    "        if SunDict['theta_S_deg'] < 90:\n",
    "            InputDict.update(SunDict)\n",
    "            GI = ModuleIllumination(InputDict)\n",
    "            ground_direct[i*6+j] = GI.irradiance_ground_direct_received"
   ]
  },
  {
   "cell_type": "code",
   "execution_count": 19,
   "metadata": {},
   "outputs": [
    {
     "data": {
      "image/png": "[encoded data removed]",
      "text/plain": [
       "<Figure size 144x144 with 1 Axes>"
      ]
     },
     "metadata": {
      "needs_background": "light"
     },
     "output_type": "display_data"
    }
   ],
   "source": [
    "fig, ax = plt.subplots(figsize=(2,2))\n",
    "im = ax.imshow(ground_direct,origin='lower',vmax=0.88)\n",
    "ax.set_xticks(x_ticks)\n",
    "ax.set_xticklabels(np.round(GI.x_g_array[x_ticks],1))\n",
    "ax.set_yticks(y_ticks)\n",
    "ax.set_yticklabels(time_array[y_ticks])\n",
    "ax.set_xlabel('distance (m)')\n",
    "ax.set_ylabel('time (h)')\n",
    "#cbar = fig.colorbar(im, ax=ax, shrink=0.9)\n",
    "#cbar.set_label('geom.\\ dist.\\ func.\\ $\\gamma_\\mathrm{dir}$')\n",
    "#figname = 'figures/ground_illum_equ_cbar.pdf'.format(i)\n",
    "figname = 'figures/ground_illum_2.pdf'.format(i)\n",
    "plt.tight_layout()\n",
    "#plt.savefig(figname, format='pdf', dpi=300)\n",
    "\n",
    "plt.show()"
   ]
  },
  {
   "cell_type": "code",
   "execution_count": 20,
   "metadata": {
    "scrolled": false
   },
   "outputs": [
    {
     "data": {
      "image/png": "[encoded data removed]",
      "text/plain": [
       "<Figure size 144x144 with 1 Axes>"
      ]
     },
     "metadata": {
      "needs_background": "light"
     },
     "output_type": "display_data"
    }
   ],
   "source": [
    "fig, ax = plt.subplots(figsize=(2, 2))\n",
    "ax.imshow(ground_direct,origin='lower')\n",
    "ax.set_xticks(x_ticks)\n",
    "ax.set_xticklabels(np.round(GI.x_g_array[x_ticks],9))\n",
    "ax.set_yticks(y_ticks)\n",
    "ax.set_yticklabels(time_array[y_ticks])\n",
    "plt.show()"
   ]
  },
  {
   "cell_type": "code",
   "execution_count": 21,
   "metadata": {},
   "outputs": [
    {
     "name": "stdout",
     "output_type": "stream",
     "text": [
      "4 o clock\n",
      "5 o clock\n",
      "6 o clock\n",
      "7 o clock\n",
      "8 o clock\n",
      "9 o clock\n",
      "10 o clock\n",
      "11 o clock\n",
      "12 o clock\n",
      "13 o clock\n",
      "14 o clock\n",
      "15 o clock\n",
      "16 o clock\n",
      "17 o clock\n",
      "18 o clock\n",
      "19 o clock\n",
      "20 o clock\n",
      "21 o clock\n"
     ]
    }
   ],
   "source": [
    "ground_direct = np.zeros([len(hour_range)*len(minute_range),InputDict['ground_steps']])\n",
    "for i,hh in enumerate(hour_range):\n",
    "    print(hh,'o clock')\n",
    "    for j,mm in enumerate(minute_range):\n",
    "        time_array[6*i+j] = hh + mm/60\n",
    "        date_temp = datetime.datetime(2019, 11, 12, hh, mm, 0, 0, tzinfo = datetime.timezone(datetime.timedelta(hours=2)) )\n",
    "        SunDict = {\n",
    "            'theta_S_deg': 90 - sol.get_altitude(52.5, 13.25, date_temp),\n",
    "            'phi_S_deg': sol.get_azimuth(52.5, 13.25, date_temp)\n",
    "        }\n",
    "        # Check if Sun is above the horizon\n",
    "        if SunDict['theta_S_deg'] < 90:\n",
    "            InputDict.update(SunDict)\n",
    "            GI = ModuleIllumination(InputDict)\n",
    "            ground_direct[i*6+j] = GI.irradiance_ground_direct_received"
   ]
  },
  {
   "cell_type": "code",
   "execution_count": 22,
   "metadata": {},
   "outputs": [
    {
     "data": {
      "image/png": "[encoded data removed]",
      "text/plain": [
       "<Figure size 432x288 with 1 Axes>"
      ]
     },
     "metadata": {
      "needs_background": "light"
     },
     "output_type": "display_data"
    }
   ],
   "source": [
    "fig, ax = plt.subplots()\n",
    "ax.imshow(ground_direct,origin='lower')\n",
    "ax.set_xticks(x_ticks)\n",
    "ax.set_xticklabels(np.round(GI.x_g_array[x_ticks],9))\n",
    "ax.set_yticks(y_ticks)\n",
    "ax.set_yticklabels(time_array[y_ticks])\n",
    "plt.show()"
   ]
  },
  {
   "cell_type": "code",
   "execution_count": 23,
   "metadata": {},
   "outputs": [
    {
     "name": "stdout",
     "output_type": "stream",
     "text": [
      "4 0 -5.395348898387416 38.81042856461801\n",
      "4 10 -4.420235061915385 40.893875277034994\n",
      "4 20 -3.4035249345652145 42.954433424373065\n",
      "4 30 -2.3469811697632785 44.99257337150155\n",
      "4 40 -1.2523627539601943 47.00892624916116\n",
      "4 50 0.3722413137147543 49.00427348948375\n",
      "5 0 1.3969628068710347 50.97953888835218\n",
      "5 10 2.505562253541011 52.935780388123234\n",
      "5 20 3.6770266811180194 54.87418273615887\n",
      "5 30 4.8966795600875175 56.796051048161445\n",
      "5 40 6.155579707805559 58.70280527051514\n",
      "5 50 7.4479872405461505 60.59597655501858\n",
      "6 0 8.769880137929132 62.477202814347294\n",
      "6 10 10.118189750042474 64.3482287652587\n",
      "6 20 11.490400710883044 66.21090415058286\n",
      "6 30 12.884334837629515 68.06718540618\n",
      "6 40 14.298027708001625 69.91913802847347\n",
      "6 50 15.729654654865373 71.76894057646594\n",
      "7 0 17.17748382611561 73.61889023839731\n",
      "7 10 18.63984444465915 75.47140987554921\n",
      "7 20 20.115104518301276 77.32905748999094\n",
      "7 30 21.601652126317514 79.19453541503194\n",
      "7 40 23.09788215806588 81.07070441591846\n",
      "7 50 24.602182185785175 82.96059650803294\n",
      "8 0 26.112920666443728 84.86743167155814\n",
      "8 10 27.628434677878555 86.79463574217584\n",
      "8 20 29.147017447686892 88.74586036220963\n",
      "8 30 30.66690523042311 90.72500482697512\n",
      "8 40 32.18626313305428 92.73623956698549\n",
      "8 50 33.70317035820484 94.7840320195167\n",
      "9 0 35.215602368238756 96.87317149700685\n",
      "9 10 36.72141393492974 99.00879810072995\n",
      "9 20 38.218317763759984 101.19642790881242\n",
      "9 30 39.703862687066014 103.44197883152613\n",
      "9 40 41.17540904035499 105.75179226108018\n",
      "9 50 42.63010185717732 108.13264895874237\n",
      "10 0 44.06484181973223 110.59177560805249\n",
      "10 10 45.476254058229166 113.13683724362902\n",
      "10 20 46.860655914573115 115.7759107851088\n",
      "10 30 48.21402238536169 118.51742812878622\n",
      "10 40 49.53195435631972 121.37008648851173\n",
      "10 50 50.80964688554434 124.3427056801579\n",
      "11 0 52.04186407041686 127.44402668626265\n",
      "11 10 53.22292219966874 130.68243372942553\n",
      "11 20 54.34668671592616 134.06558816883762\n",
      "11 30 55.4065889553623 137.5999646682593\n",
      "11 40 56.39566965110098 141.29028760899823\n",
      "11 50 57.30665722476843 145.13888083478253\n",
      "12 0 58.13208655740076 149.14495548183586\n",
      "12 10 58.864465934507585 153.30390136625425\n",
      "12 20 59.496490257485284 157.60665076766762\n",
      "12 30 60.02129795404832 162.0392299620874\n",
      "12 40 60.43275728007702 166.582607032643\n",
      "12 50 60.725760845260375 171.2129387627366\n",
      "13 0 60.89649965312082 175.90227461604175\n",
      "13 10 60.942684877394264 180.61970585025625\n",
      "13 20 60.8636883948972 185.3328670999933\n",
      "13 30 60.66058234646817 190.00961446325476\n",
      "13 40 60.33607183998154 194.61968328592292\n",
      "13 50 59.89433078795101 199.13610642746985\n",
      "14 0 59.34076333394408 203.5362541423494\n",
      "14 10 58.681721405363085 207.80241568103554\n",
      "14 20 57.92420979582822 211.92193361255298\n",
      "14 30 57.07560586157265 215.88696293820067\n",
      "14 40 56.14341327936981 219.69396187547332\n",
      "14 50 55.135060193757134 223.34302973483304\n",
      "15 0 54.057746404516465 226.83718586833783\n",
      "15 10 52.918334451841176 230.1816746847401\n",
      "15 20 51.723282164958725 233.3833325469183\n",
      "15 30 50.47860650617834 236.4500513012347\n",
      "15 40 49.189872741063624 239.390340411302\n",
      "15 50 47.862201615430536 242.2129851545992\n",
      "16 0 46.50028885142287 244.9267899968209\n",
      "16 10 45.10843249771613 247.54039356003108\n",
      "16 20 43.69056400396665 250.06214270716364\n",
      "16 30 42.25028260783358 252.50000929291915\n",
      "16 40 40.79088741376715 254.8615456590867\n",
      "16 50 39.31541079521588 257.15386135367623\n",
      "17 0 37.826648509875774 259.38362075111627\n",
      "17 10 36.32718826929079 261.5570522785945\n",
      "17 20 34.81943594315623 263.67996614317053\n",
      "17 30 33.30563948864228 265.7577772217404\n",
      "17 40 31.787910815892552 267.7955306381861\n",
      "17 50 30.268245017049303 269.79792933618387\n",
      "18 0 28.74853941139753 271.76935948351957\n",
      "18 10 27.230608425788425 273.71391846910853\n",
      "18 20 25.716199649985274 275.6354382328986\n",
      "18 30 24.20700712034828 277.53750910614144\n",
      "18 40 22.704684345015256 279.4235010324481\n",
      "18 50 21.21085665875316 281.2965830111883\n",
      "19 0 19.72713337076636 283.1597406088231\n",
      "19 10 18.25512028745607 285.015791418307\n",
      "19 20 16.796432573714142 286.8673993898757\n",
      "19 30 15.352711107845646 288.71708533494785\n",
      "19 40 13.925639826215141 290.56723877696646\n",
      "19 50 12.516971463453414 292.4201249790523\n",
      "20 0 11.128561928777847 294.27789231162126\n",
      "20 10 9.762422991322374 296.14257727682343\n",
      "20 20 8.42080643498563 298.01610810953594\n",
      "20 30 7.106346272401046 299.9003068871342\n",
      "20 40 5.822311824605928 301.7968900531844\n",
      "20 50 4.573079101383624 303.70746831898407\n",
      "21 0 3.365043322211289 305.63354316448505\n",
      "21 10 2.208363595834718 307.5765052690808\n",
      "21 20 1.119646314774587 309.53762851962415\n",
      "21 30 0.1193562309284582 311.51806496707127\n",
      "21 40 -1.5424952729588275 313.5188380072714\n",
      "21 50 -2.6272627154905432 315.5408348309161\n"
     ]
    }
   ],
   "source": [
    "hour_range = np.linspace(4,21,18,dtype = int)\n",
    "minute_range = np.linspace(0,50,6,dtype = int)\n",
    "time_array = np.zeros(len(hour_range)*len(minute_range))\n",
    "irradiance_ground_direct_received_array = np.zeros([len(hour_range)*len(minute_range),InputDict['ground_steps']])\n",
    "for i,hh in enumerate(hour_range):\n",
    "    for j,mm in enumerate(minute_range):\n",
    "        time_array[6*i+j] = hh+mm/60\n",
    "        date_temp = datetime.datetime(2019, 6, 21, hh, mm, 0, 0, tzinfo = datetime.timezone(datetime.timedelta(hours=2)) )\n",
    "        SunDict = {\n",
    "            'theta_S_deg': 90 - sol.get_altitude(52.5, 13.25, date_temp),\n",
    "            'phi_S_deg': sol.get_azimuth(52.5, 13.25, date_temp)\n",
    "        }\n",
    "        print(hh,mm,sol.get_altitude(52.5, 13.25, date_temp),sol.get_azimuth(52.5, 13.25, date_temp))"
   ]
  },
  {
   "cell_type": "markdown",
   "metadata": {},
   "source": [
    "### Other figures for publications (OpEx)\n",
    "Figures made on 20191111 and 20191112."
   ]
  },
  {
   "cell_type": "code",
   "execution_count": 24,
   "metadata": {},
   "outputs": [],
   "source": [
    "colors = ['#1f77b4','#ff7f0e','#396686','#c28249']\n",
    "LightGrey = '#AAAAAA'\n",
    "LightestGrey = '#EEEEEE'\n",
    "DarkBlue = '#2D2F92'"
   ]
  },
  {
   "cell_type": "code",
   "execution_count": 25,
   "metadata": {},
   "outputs": [],
   "source": [
    "plt.rcParams['font.size'] = 8.0\n",
    "#plt.rcParams['font.family'] = 'sans'\n",
    "plt.rcParams['text.latex.preamble'] = r'\\usepackage{arev}'\n",
    "rc('text', usetex=True)"
   ]
  },
  {
   "cell_type": "code",
   "execution_count": 26,
   "metadata": {},
   "outputs": [],
   "source": [
    "date = datetime.datetime(2019, 6, 20, 11, 52, 0, 0, tzinfo = datetime.timezone(datetime.timedelta(hours=2)) )\n",
    "# Define the dictionary for the class\n",
    "InputDict = {\n",
    "    'L': 1.960,# module length, standard is 1650 mm or 1960 mm\n",
    "    'theta_m_deg': 52., # Angle of the module with respect to the ground (first guess optimal theta_m = latitude on Earth)\n",
    "    'D': 7.3, # distance between modules\n",
    "    'H': 0.500, # height of module base above ground\n",
    "    'DNI': 0, # direct normal irradiance\n",
    "    'DHI': 440, # diffuse horizontal irradiance\n",
    "    'theta_S_deg': 90-sol.get_altitude(52.5, 13.25, date), # zenith of the Sun (Berlin, 2019-09-20, 11:00 CEST)\n",
    "    'phi_S_deg': sol.get_azimuth(52.5, 13.25, date), # azimuth of the Sun (Berlin, 2019-09-20, 11:00 CEST)\n",
    "    'albedo': 0.3, # albedo of the ground\n",
    "    'ground_steps': 101, #number of steps into which irradiance on the ground is evaluated in the interval [0,D]\n",
    "    'module_steps': 12, # SET THIS NUMBER HIGHER FOR REAL EVALUATION! (SUGGESTION 20) number of lengths steps at which irradiance is evaluated on the module\n",
    "    'angle_steps': 180 # Number at which angle discretization of ground light on module should be set\n",
    "}\n",
    "GI_1152 = ModuleIllumination(InputDict)"
   ]
  },
  {
   "cell_type": "code",
   "execution_count": 27,
   "metadata": {},
   "outputs": [],
   "source": [
    "date = datetime.datetime(2019, 6, 20, 12, 38, 0, 0, tzinfo = datetime.timezone(datetime.timedelta(hours=2)) )\n",
    "# Define the dictionary for the class\n",
    "InputDict = {\n",
    "    'L': 1.960,# module length, standard is 1650 mm or 1960 mm\n",
    "    'theta_m_deg': 52., # Angle of the module with respect to the ground (first guess optimal theta_m = latitude on Earth)\n",
    "    'D': 7.3, # distance between modules\n",
    "    'H': 0.500, # height of module base above ground\n",
    "    'DNI': 883, # direct normal irradiance\n",
    "    'DHI': 134, # diffuse horizontal irradiance\n",
    "    'theta_S_deg': 90-sol.get_altitude(52.5, 13.25, date), # zenith of the Sun (Berlin, 2019-09-20, 11:00 CEST)\n",
    "    'phi_S_deg': sol.get_azimuth(52.5, 13.25, date), # azimuth of the Sun (Berlin, 2019-09-20, 11:00 CEST)\n",
    "    'albedo': 0.3, # albedo of the ground\n",
    "    'ground_steps': 101, #number of steps into which irradiance on the ground is evaluated in the interval [0,D]\n",
    "    'module_steps': 12, # SET THIS NUMBER HIGHER FOR REAL EVALUATION! (SUGGESTION 20) number of lengths steps at which irradiance is evaluated on the module\n",
    "    'angle_steps': 180 # Number at which angle discretization of ground light on module should be set\n",
    "}\n",
    "GI_1238 = ModuleIllumination(InputDict)"
   ]
  },
  {
   "cell_type": "code",
   "execution_count": 28,
   "metadata": {},
   "outputs": [],
   "source": [
    "irr_f = np.zeros([2,len(GI_1152.l_array)])\n",
    "irr_b = np.zeros([2,len(GI_1152.l_array)])\n",
    "for i,sg in enumerate(['sky','ground']):\n",
    "    for k,dd in enumerate(['diffuse','direct']):\n",
    "        irr_f[0] += GI_1152.results['irradiance_module_front_'+sg+'_'+dd]\n",
    "        irr_b[0] += GI_1152.results['irradiance_module_back_'+sg+'_'+dd]\n",
    "        irr_f[1] += GI_1238.results['irradiance_module_front_'+sg+'_'+dd]\n",
    "        irr_b[1] += GI_1238.results['irradiance_module_back_'+sg+'_'+dd]\n",
    "irr_t = irr_f + irr_b"
   ]
  },
  {
   "cell_type": "code",
   "execution_count": 30,
   "metadata": {},
   "outputs": [
    {
     "data": {
      "image/png": "[encoded data removed]",
      "text/plain": [
       "<Figure size 243x288 with 2 Axes>"
      ]
     },
     "metadata": {
      "needs_background": "light"
     },
     "output_type": "display_data"
    }
   ],
   "source": [
    "fig, (ax1, ax2) = plt.subplots(2,1,figsize=(3.375, 4))\n",
    "for i in range(2):\n",
    "    if i == 0:\n",
    "        ax = ax1\n",
    "        subfig = r'\\textbf{(a)}'\n",
    "    else:\n",
    "        ax = ax2\n",
    "        subfig = r'\\textbf{(b)}'\n",
    "    ax.plot(GI_1152.l_array,irr_t[i],'-',label='total',color = colors[1])\n",
    "    ax.plot(GI_1152.l_array,irr_f[i],'-',label='front',color = colors[0]) #, mfc = insidecolor)\n",
    "    ax.plot(GI_1152.l_array,irr_b[i],'-',label='back',color = 'grey')\n",
    "    ax.legend(frameon=False,fontsize=7)\n",
    "    if i == 0:\n",
    "        ymax = 550\n",
    "        ax.set_ylim(0,ymax)\n",
    "        ax.text(-.5,.97*ymax,r'\\textbf{(a)}')\n",
    "        ax.text(.05,.53*ymax,'11:52 CEST')\n",
    "        ax.text(.05,.41*ymax,'DNI: \\phantom{00}0 W/m$^2$')\n",
    "        ax.text(.05,.29*ymax,'DHI: 440 W/m$^2$')\n",
    "        ax.xaxis.tick_top()\n",
    "        ax.set_xticklabels([])\n",
    "    else:\n",
    "        ymax = 1200\n",
    "        ax.set_ylim(0,ymax)\n",
    "        ax.text(-.5,.97*ymax,r'\\textbf{(b)}')\n",
    "        ax.text(.05,.6*ymax,'12:38 CEST')\n",
    "        ax.text(.05,.48*ymax,'DNI: 883 W/m$^2$')\n",
    "        ax.text(.05,.36*ymax,'DHI: 134 W/m$^2$')\n",
    "        ax.set_xlabel('position on module $s$ (m)')\n",
    "\n",
    "   \n",
    "    ax.set_ylabel('irradiance (W/m$^2$)')\n",
    "    \n",
    "    ax.set_xlim(0,2)\n",
    "fig.align_ylabels()\n",
    "figname = 'figures/irradiance_module_example.pdf'\n",
    "plt.tight_layout()\n",
    "#plt.savefig(figname, format='pdf', dpi=300)\n",
    "plt.show()"
   ]
  },
  {
   "cell_type": "code",
   "execution_count": 31,
   "metadata": {},
   "outputs": [
    {
     "name": "stdout",
     "output_type": "stream",
     "text": [
      "11:52 front:  0.08166666666666667\n",
      "11:52 bifac:  0.08166666666666667\n",
      "12:38 front:  1.8783333333333334\n",
      "12:38 bifac:  0.5716666666666667\n"
     ]
    }
   ],
   "source": [
    "print('11:52 front: ', GI_1152.l_array[np.argmin(irr_f[0])])\n",
    "print('11:52 bifac: ', GI_1152.l_array[np.argmin(irr_t[0])])\n",
    "print('12:38 front: ', GI_1152.l_array[np.argmin(irr_f[1])])\n",
    "print('12:38 bifac: ', GI_1152.l_array[np.argmin(irr_t[1])])"
   ]
  },
  {
   "cell_type": "code",
   "execution_count": 32,
   "metadata": {},
   "outputs": [
    {
     "name": "stdout",
     "output_type": "stream",
     "text": [
      "[73.98962513 61.44731639 55.99111454 55.54509409 57.16474755 60.40384247\n",
      " 64.57141883 69.18829496 73.91528536 78.59663191 83.07397423 87.50891049]\n",
      "[18.42177269 18.15011738 18.16199276 18.36542538 18.60057221 18.84924853\n",
      " 19.08680886 19.29642049 19.46960068 19.61420761 19.6962355  19.71566271]\n"
     ]
    }
   ],
   "source": [
    "print(GI_1238.results['irradiance_module_back_ground_direct'])\n",
    "print(GI_1238.results['irradiance_module_back_ground_diffuse'])"
   ]
  },
  {
   "cell_type": "markdown",
   "metadata": {},
   "source": [
    "### Other figures"
   ]
  },
  {
   "cell_type": "code",
   "execution_count": 40,
   "metadata": {},
   "outputs": [],
   "source": [
    "date = datetime.datetime(2019, 6, 20, 11, 52, 0, 0, tzinfo = datetime.timezone(datetime.timedelta(hours=2)) )\n",
    "# Define the dictionary for the class\n",
    "InputDict = {\n",
    "    'L': 1.960,# module length, standard is 1650 mm or 1960 mm\n",
    "    'theta_m_deg': 52., # Angle of the module with respect to the ground (first guess optimal theta_m = latitude on Earth)\n",
    "    'D': 7.3, # distance between modules\n",
    "    'H': 0.500, # height of module base above ground\n",
    "    'DNI': 1, # direct normal irradiance\n",
    "    'DHI': 1, # diffuse horizontal irradiance\n",
    "    'theta_S_deg': 90-sol.get_altitude(52.5, 13.25, date), # zenith of the Sun\n",
    "    'phi_S_deg': sol.get_azimuth(52.5, 13.25, date), # azimuth of the Sun\n",
    "    'albedo': 0.3, # albedo of the ground\n",
    "    'ground_steps': 101, #number of steps into which irradiance on the ground is evaluated in the interval [0,D]\n",
    "    'module_steps': 12, # SET THIS NUMBER HIGHER FOR REAL EVALUATION! (SUGGESTION 20) number of lengths steps at which irradiance is evaluated on the module\n",
    "    'angle_steps': 180 # Number at which angle discretization of ground light on module should be set\n",
    "}"
   ]
  },
  {
   "cell_type": "code",
   "execution_count": 41,
   "metadata": {},
   "outputs": [],
   "source": [
    "GI = ModuleIllumination(InputDict)"
   ]
  },
  {
   "cell_type": "code",
   "execution_count": 42,
   "metadata": {},
   "outputs": [
    {
     "data": {
      "image/png": "[encoded data removed]",
      "text/plain": [
       "<Figure size 243x194.4 with 2 Axes>"
      ]
     },
     "metadata": {
      "needs_background": "light"
     },
     "output_type": "display_data"
    }
   ],
   "source": [
    "# PARAMETERS OF THE MODULE LINE\n",
    "d = InputDict['D']\n",
    "l = InputDict['L']\n",
    "h = InputDict['H']\n",
    "theta_m = InputDict['theta_m_deg']\n",
    "k_m = np.tan(theta_m*np.pi/180.)\n",
    "d_m = 0.0\n",
    "\n",
    "\n",
    "#mod_func = k_m*fmod_pos_array(GI.x_g_array,d)\n",
    "mod_func = k_m*GI.x_g_array\n",
    "#y_m_plot2 = y_m_plot\n",
    "h_mod = l*np.sin(theta_m*np.pi/180.)\n",
    "w_mod = l*np.cos(theta_m*np.pi/180.)\n",
    "#for i,y_i in enumerate(y_m_plot2):\n",
    "#    if y_i > h_m:\n",
    "#        y_m_plot2[i] = 1/0 #-h-1\n",
    "\n",
    "id_mod = np.where(mod_func <= h_mod)\n",
    "id_mod = id_mod[0][:-1] # remove last element\n",
    "\n",
    "\n",
    "x_mod_array = GI.x_g_array[id_mod]\n",
    "y_mod_array = mod_func[id_mod]\n",
    "#for i,y_i in enumerate(mod_func):\n",
    "#    if y_i > h_mod:\n",
    "#        y_m_plot2[i] = -h\n",
    "\n",
    "        \n",
    "irr_ground_diff = GI.results['radiance_ground_diffuse_emitted'] * np.pi/GI.albedo\n",
    "\n",
    "x_shadow = -h/np.tan(theta_m*np.pi/180.)\n",
    "\n",
    "fig, (ax1, ax2) = plt.subplots(2, 1, figsize=(3.375, 2.7))\n",
    "\n",
    "# AXIS 1\n",
    "ax1.add_patch(Rectangle((0, -h), d, h+h_mod+.2, color = LightestGrey))\n",
    "ax1.axhline(0,color = LightGrey,linewidth = 0.5) \n",
    "for i,x_off in enumerate([0,d]): #x_off ... x offset\n",
    "    ax1.axvline(x_off,color = LightGrey,linewidth = 0.5) \n",
    "    ax1.axvline(w_mod+x_off,color = LightGrey,linewidth = 0.5)    \n",
    "    ax1.plot(np.array([x_shadow,0])+x_off,[-h,0],linewidth = 0.5, color='Grey')\n",
    "    ax1.plot(x_mod_array+x_off,y_mod_array,linewidth = 4, color='DarkBlue')\n",
    "    ax1.plot(x_shadow+x_off,-h,'d',color='k')\n",
    "    ax1.text(0.07+x_off,1.0,'\\#{}'.format(i+1),rotation = theta_m)\n",
    "    ax1.text(x_shadow+x_off,-h+0.1,'$x\\'$',horizontalalignment='right')\n",
    "#ax1.text(-.85,1.4,r'\\textbf{(a)}')\n",
    "ax1.text(-3,2.2,r'\\textbf{(a)}')\n",
    "ax1.text(w_mod+.3,-h+.1,'ground')\n",
    "ax1.xaxis.tick_top()\n",
    "ax1.set_ylabel('$z$ (m)')\n",
    "ax1.set_xlim(-0.95,8.5)\n",
    "ax1.set_ylim(-.5,h_mod+.2)\n",
    "ax1.set_yticks(np.linspace(-.5,1.5,5))\n",
    "ax1.set_aspect('equal')\n",
    "\n",
    "# AXIS 2\n",
    "ax2.add_patch(Rectangle((0, 0), d, 1.1, color = LightestGrey))\n",
    "for i,x_off in enumerate([-d,0,d]):\n",
    "    ax2.axvline(d+x_off,color = LightGrey,linewidth = 0.5)\n",
    "    ax2.axvline(w_mod+x_off,color = LightGrey,linewidth = 0.5)\n",
    "    ax2.plot(GI.x_g_array+x_off,GI.irradiance_ground_diffuse_received,'-',color = colors[0],label=['','diffuse',''][i])\n",
    "    ax2.plot(GI.x_g_array+x_off,GI.irradiance_ground_direct_received,'-',color = colors[1],label=['','direct',''][i])\n",
    "\n",
    "ax2.set_xlabel('position on ground $x_g$ (m)')\n",
    "ax2.set_ylabel('g.d.f.\\ $\\gamma$ (--)')\n",
    "ax2.legend(loc=(.55,0),frameon=False,facecolor = 'w')\n",
    "#ax2.text(-.85,0.8,r'\\textbf{(b)}')\n",
    "ax2.text(-3,1.1,r'\\textbf{(b)}')\n",
    "ax2.set_xlim(-0.95,8.5)\n",
    "ax2.set_ylim(0.,1.1)\n",
    "\n",
    "fig.subplots_adjust(hspace=-.5)\n",
    "fig.align_ylabels()\n",
    "figname = 'figures/irradiance_ground_OpEx.pdf'\n",
    "plt.tight_layout()\n",
    "#plt.savefig(figname, format='pdf', dpi=300)"
   ]
  },
  {
   "cell_type": "code",
   "execution_count": 74,
   "metadata": {},
   "outputs": [
    {
     "data": {
      "image/png": "[encoded data removed]",
      "text/plain": [
       "<Figure size 243x288 with 2 Axes>"
      ]
     },
     "metadata": {
      "needs_background": "light"
     },
     "output_type": "display_data"
    }
   ],
   "source": [
    "fig, (ax1, ax2) = plt.subplots(2,1,figsize=(3.375, 4))\n",
    "for i,sg in enumerate(['sky','ground']):\n",
    "    if i == 0:\n",
    "        ax = ax1\n",
    "        subfig = r'\\textbf{(a)}'\n",
    "    else:\n",
    "        ax = ax2\n",
    "        subfig = r'\\textbf{(b)}'\n",
    "    for fb in ['front','back']:\n",
    "\n",
    "        for k,dd in enumerate(['diffuse','direct']):\n",
    "            k += 2*i\n",
    "            if fb == 'front':\n",
    "                linestyle = '-'\n",
    "            else:\n",
    "                linestyle= '--'\n",
    "\n",
    "            ax.plot(GI.l_array,GI.results['irradiance_module_'+fb+'_'+sg+'_'+dd],linestyle,label=fb+', '+dd,color = colors[k]) #, mfc = insidecolor)\n",
    "    ax.legend(frameon=False,fontsize=6)\n",
    "    if i == 0:\n",
    "        \n",
    "        ax.set_ylim(0,.95)\n",
    "        ax.text(-.45,0.97*.95,r'\\textbf{(a)}')\n",
    "        ax.text(.05,.4*.95,'illumination from')\n",
    "        ax.text(.05,.28*.95,'the sky')\n",
    "        ax.xaxis.tick_top()\n",
    "        ax.set_xticklabels([])\n",
    "    else:\n",
    "        ax.set_ylim(0,0.15)\n",
    "        ax.text(-.45,0.97*.15,r'\\textbf{(b)}')\n",
    "        ax.text(.05,.94*.112,'illumination from')\n",
    "        ax.text(.05,.78*.112,'the ground')\n",
    "        ax.set_xlabel('position on module $s$ (m)')\n",
    "        ax.set_yticks(np.linspace(0,.15,6))\n",
    "    #ax.set_title(subfig+' illumination from the '+sg)\n",
    "   \n",
    "    ax.set_ylabel('geom.\\ dist.\\ func.\\ $\\iota$ (--)')\n",
    "    \n",
    "    ax.set_xlim(0,2)\n",
    "fig.align_ylabels()\n",
    "figname = 'figures/irradiance_module_v4.pdf'\n",
    "plt.tight_layout()\n",
    "plt.savefig(figname, format='pdf', dpi=300)"
   ]
  },
  {
   "cell_type": "code",
   "execution_count": 68,
   "metadata": {},
   "outputs": [
    {
     "data": {
      "image/png": "[encoded data removed]",
      "text/plain": [
       "<Figure size 432x162 with 2 Axes>"
      ]
     },
     "metadata": {
      "needs_background": "light"
     },
     "output_type": "display_data"
    }
   ],
   "source": [
    "fig, (ax1, ax2) = plt.subplots(1,2,figsize=(6, 2.25))\n",
    "for i,sg in enumerate(['sky','ground']):\n",
    "    if i == 0:\n",
    "        ax = ax1\n",
    "        subfig = r'\\textbf{(a)}'\n",
    "    else:\n",
    "        ax = ax2\n",
    "        subfig = r'\\textbf{(b)}'\n",
    "    for fb in ['front','back']:\n",
    "\n",
    "        for k,dd in enumerate(['diffuse','direct']):\n",
    "            k += 2*i\n",
    "            if fb == 'front':\n",
    "                insidecolor = colors[k]\n",
    "            else:\n",
    "                insidecolor = '#ffffff'\n",
    "\n",
    "            ax.plot(GI.l_array,GI.results['irradiance_module_'+fb+'_'+sg+'_'+dd],'.',label=fb+', '+dd,color = colors[k], mfc = insidecolor)\n",
    "    ax.legend(frameon=False,fontsize=7)\n",
    "    if i == 0:\n",
    "        \n",
    "        ax.set_ylim(0,1)\n",
    "    else:\n",
    "        ax.set_ylim(0,)\n",
    "    ax.set_title(subfig+' illumination from the '+sg)\n",
    "    ax.set_xlabel('position on module $s$ (m)')\n",
    "    ax.set_ylabel('geom.\\ dist.\\ function $\\iota$ (--)')\n",
    "    ax.set_xlim(0,1.65)\n",
    "figname = 'figures/irradiance_module.pdf'\n",
    "plt.tight_layout()\n",
    "plt.savefig(figname, format='pdf', dpi=300)\n",
    "\n"
   ]
  },
  {
   "cell_type": "markdown",
   "metadata": {},
   "source": [
    "### Figures for illustration\n",
    "The figures only can be plotted after the class was established."
   ]
  },
  {
   "cell_type": "code",
   "execution_count": null,
   "metadata": {},
   "outputs": [],
   "source": [
    "figure = plt.figure(figsize=(6,4))\n",
    "plt.plot(GI.l_array,GI.results['irradiance_module_front_sky_direct'],label='front')\n",
    "plt.plot(GI.l_array,GI.results['irradiance_module_back_sky_direct'],label='back')\n",
    "plt.legend()\n",
    "plt.title('Direct Illumination from the Sky')\n",
    "plt.xlabel('position on module (m)')\n",
    "plt.ylabel('Irradiance on module (m$^{-2}$) (DHI = 1)')"
   ]
  },
  {
   "cell_type": "code",
   "execution_count": null,
   "metadata": {},
   "outputs": [],
   "source": [
    "#dict['theta_S_deg'] = 30 # zenith of the Sun\n",
    "#dict['phi_S_deg'] = 135 # azimuth of the Sun\n",
    "#GI = ModuleIllumination(dict) # GroundIllumination\n",
    "figure = plt.figure(figsize=(6,4))\n",
    "plt.plot(GI.x_g_array,GI.results['radiance_ground_diffuse_emitted'],label='diffuse ground')\n",
    "plt.plot(GI.x_g_array,GI.results['radiance_ground_direct_emitted'],label='direct ground')\n",
    "plt.legend()\n",
    "#plt.title('Diffuse illumination from the sky')\n",
    "plt.xlabel('position on ground (m)')\n",
    "plt.ylabel('radiance from ground (m$^{-2}$) (DHI = 1)')"
   ]
  },
  {
   "cell_type": "code",
   "execution_count": null,
   "metadata": {},
   "outputs": [],
   "source": [
    "figure = plt.figure(figsize=(6,4))\n",
    "plt.plot(GI.l_array,GI.results['irradiance_module_front_ground_diffuse'],label='front, diffuse')\n",
    "plt.plot(GI.l_array,GI.results['irradiance_module_front_ground_direct'],label='front, direct')\n",
    "plt.plot(GI.l_array,GI.results['irradiance_module_back_ground_diffuse'],label='back, diffuse')\n",
    "plt.plot(GI.l_array,GI.results['irradiance_module_back_ground_direct'],label='back, direct')\n",
    "plt.legend()\n",
    "plt.title('Illumination from the ground')\n",
    "plt.xlabel('position on module (m)')\n",
    "plt.ylabel('Irradiance on module (m$^{-2}$) (DHI = 1)')\n",
    "figure = plt.figure(figsize=(6,4))\n",
    "plt.plot(GI.l_array,GI.results['irradiance_module_front_sky_diffuse'],label='sky front')\n",
    "plt.plot(GI.l_array,GI.results['irradiance_module_back_sky_diffuse'],label='sky back')\n",
    "plt.legend()\n",
    "plt.title('Diffuse illumination from the sky')\n",
    "plt.xlabel('position on module (m)')\n",
    "plt.ylabel('Irradiance on module (m$^{-2}$) (DHI = 1)')"
   ]
  },
  {
   "cell_type": "code",
   "execution_count": null,
   "metadata": {},
   "outputs": [],
   "source": [
    "angle_matrix_front = GI.results['module_front_ground_matrix'].sum(axis=2)\n",
    "angle_matrix_back = GI.results['module_back_ground_matrix'].sum(axis=2)"
   ]
  },
  {
   "cell_type": "code",
   "execution_count": null,
   "metadata": {},
   "outputs": [],
   "source": [
    "figure = plt.figure(figsize=(12,8))\n",
    "angle_array = np.linspace(-89.5,89.5,InputDict['angle_steps'])\n",
    "for i,l in enumerate(GI.l_array):\n",
    "    plt.plot(angle_array,angle_matrix_front[i,:],label = '{:0.0f} cm'.format(l*100))\n",
    "plt.xlim(35,90)\n",
    "plt.legend()\n",
    "figure = plt.figure(figsize=(12,8))\n",
    "for i,l in enumerate(GI.l_array):\n",
    "    plt.plot(angle_array,angle_matrix_back[i,:],label = '{:0.0f} cm'.format(l*100))\n",
    "plt.xlim(-40,90)\n",
    "plt.legend()\n",
    "    "
   ]
  },
  {
   "cell_type": "code",
   "execution_count": null,
   "metadata": {},
   "outputs": [],
   "source": []
  }
 ],
 "metadata": {
  "anaconda-cloud": {},
  "kernelspec": {
   "display_name": "Python 3",
   "language": "python",
   "name": "python3"
  },
  "language_info": {
   "codemirror_mode": {
    "name": "ipython",
    "version": 3
   },
   "file_extension": ".py",
   "mimetype": "text/x-python",
   "name": "python",
   "nbconvert_exporter": "python",
   "pygments_lexer": "ipython3",
   "version": "3.7.3"
  }
 },
 "nbformat": 4,
 "nbformat_minor": 2
}
