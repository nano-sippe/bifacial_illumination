{
 "cells": [
  {
   "cell_type": "code",
   "execution_count": 1,
   "metadata": {},
   "outputs": [],
   "source": [
    "import seaborn as sns\n",
    "import numpy as np\n",
    "import pandas as pd\n",
    "import matplotlib.pyplot as plt\n",
    "import bifacial_geo as geo\n",
    "import helper\n",
    "from skopt import gp_minimize\n",
    "from skopt import plots\n",
    "from joblib import Parallel, delayed, Memory"
   ]
  },
  {
   "cell_type": "code",
   "execution_count": 2,
   "metadata": {},
   "outputs": [],
   "source": [
    "def _run(df, land_cost, invest_kwp, bifacial=True):\n",
    "    simulator = geo.CostOptimizer(\n",
    "                    df,\n",
    "                    price_per_m2_land=land_cost,\n",
    "                    bifacial=bifacial,\n",
    "                    invest_kwp = invest_kwp)\n",
    "    simulator.optimize()\n",
    "    return simulator.res\n",
    "\n",
    "class ParallelWrapper():\n",
    "    def __init__(self, location, cache=True):\n",
    "        self.location = location\n",
    "        self.df = helper.load_dataframe(self.location)\n",
    "        self.cache = cache\n",
    "\n",
    "    def parallel_run(self, land_costs, invest_kwp, location, bifacial=True):\n",
    "        if self.cache:\n",
    "            cache_location = './cachedir'\n",
    "            memory = Memory(cache_location, verbose=0)\n",
    "            cached_run = memory.cache(_run)\n",
    "\n",
    "        return Parallel(n_jobs=4)(delayed(cached_run)\\\n",
    "                       (self.df, land_cost, invest_kwp,  bifacial=bifacial)\n",
    "                       for land_cost in land_costs)\n",
    "\n",
    "def process_results(results):\n",
    "    df_dict = {\n",
    "    'cost': [results[i].fun for i in range(len(results))],\n",
    "    'dist': [results[i].x[0] for i in range(len(results))],\n",
    "    'tilt': [results[i].x[1] for i in range(len(results))]\n",
    "        }\n",
    "\n",
    "    df = pd.DataFrame(df_dict, index=land_costs)\n",
    "    df['yield'] = (invest_kwp*0.2*100 + 100*land_costs*df.dist/1.65)/(df.cost*25*0.2)\n",
    "    df['land_cost'] = (100*land_costs*df.dist/1.65) / (df['yield']*25*0.2)\n",
    "    df['invest'] = df['cost'] - df['land_cost']\n",
    "    return df\n",
    "\n",
    "def plot_objective(result):\n",
    "    space = result.space\n",
    "    samples = np.asarray(result.x_iters)\n",
    "    n_samples=250; levels=20; n_points=40\n",
    "    rvs_transformed = space.transform(space.rvs(n_samples=n_samples))\n",
    "\n",
    "    fig, ax = plt.subplots(dpi=150)\n",
    "    xi, yi, zi = plots.partial_dependence(space, result.models[-1],\n",
    "                                    1, 0,\n",
    "                                    rvs_transformed, n_points)\n",
    "    ax.contourf(xi, yi, zi, levels, cmap='viridis_r')\n",
    "    ax.scatter(samples[:, 0], samples[:, 1],\n",
    "                     c='k', s=10, lw=0.)\n",
    "    ax.scatter(result.x[0], result.x[1],\n",
    "                     c=['r'], s=20, lw=0.)\n",
    "    ax.set_ylabel('distance between modules (m)')\n",
    "    ax.set_xlabel('tilt angle (°)')"
   ]
  },
  {
   "cell_type": "code",
   "execution_count": 3,
   "metadata": {},
   "outputs": [
    {
     "ename": "RuntimeError",
     "evalue": "input(): lost sys.stdin",
     "output_type": "error",
     "traceback": [
      "\u001b[0;31m---------------------------------------------------------------------------\u001b[0m",
      "\u001b[0;31m_RemoteTraceback\u001b[0m                          Traceback (most recent call last)",
      "\u001b[0;31m_RemoteTraceback\u001b[0m: \n\"\"\"\nTraceback (most recent call last):\n  File \"/home/peter/anaconda3/envs/ds/lib/python3.7/site-packages/joblib/externals/loky/process_executor.py\", line 418, in _process_worker\n    r = call_item()\n  File \"/home/peter/anaconda3/envs/ds/lib/python3.7/site-packages/joblib/externals/loky/process_executor.py\", line 272, in __call__\n    return self.fn(*self.args, **self.kwargs)\n  File \"/home/peter/anaconda3/envs/ds/lib/python3.7/site-packages/joblib/_parallel_backends.py\", line 567, in __call__\n    return self.func(*args, **kwargs)\n  File \"/home/peter/anaconda3/envs/ds/lib/python3.7/site-packages/joblib/parallel.py\", line 225, in __call__\n    for func, args, kwargs in self.items]\n  File \"/home/peter/anaconda3/envs/ds/lib/python3.7/site-packages/joblib/parallel.py\", line 225, in <listcomp>\n    for func, args, kwargs in self.items]\n  File \"/home/peter/anaconda3/envs/ds/lib/python3.7/site-packages/joblib/memory.py\", line 568, in __call__\n    return self._cached_call(args, kwargs)[0]\n  File \"/home/peter/anaconda3/envs/ds/lib/python3.7/site-packages/joblib/memory.py\", line 534, in _cached_call\n    out, metadata = self.call(*args, **kwargs)\n  File \"/home/peter/anaconda3/envs/ds/lib/python3.7/site-packages/joblib/memory.py\", line 734, in call\n    output = self.func(*args, **kwargs)\n  File \"<ipython-input-2-94e677636b1e>\", line 7, in _run\n  File \"/home/peter/workspace/bifacial_geo/bifacial_geo/tmy_yield.py\", line 131, in optimize\n    random_state=1,)\n  File \"/home/peter/anaconda3/envs/ds/lib/python3.7/site-packages/skopt/optimizer/gp.py\", line 228, in gp_minimize\n    callback=callback, n_jobs=n_jobs)\n  File \"/home/peter/anaconda3/envs/ds/lib/python3.7/site-packages/skopt/optimizer/base.py\", line 248, in base_minimize\n    next_y = func(next_x)\n  File \"/home/peter/workspace/bifacial_geo/bifacial_geo/tmy_yield.py\", line 123, in optimization_wrapper\n    yearly_yield = self.calculate_yield(distance, tilt)\n  File \"/home/peter/workspace/bifacial_geo/bifacial_geo/tmy_yield.py\", line 78, in calculate_yield\n    back_columns = results.columns.str.contains('back')\n  File \"/home/peter/workspace/bifacial_geo/bifacial_geo/tmy_yield.py\", line 78, in calculate_yield\n    back_columns = results.columns.str.contains('back')\n  File \"/home/peter/anaconda3/envs/ds/lib/python3.7/bdb.py\", line 88, in trace_dispatch\n    return self.dispatch_line(frame)\n  File \"/home/peter/anaconda3/envs/ds/lib/python3.7/bdb.py\", line 112, in dispatch_line\n    self.user_line(frame)\n  File \"/home/peter/anaconda3/envs/ds/lib/python3.7/pdb.py\", line 261, in user_line\n    self.interaction(frame, None)\n  File \"/home/peter/anaconda3/envs/ds/lib/python3.7/pdb.py\", line 352, in interaction\n    self._cmdloop()\n  File \"/home/peter/anaconda3/envs/ds/lib/python3.7/pdb.py\", line 321, in _cmdloop\n    self.cmdloop()\n  File \"/home/peter/anaconda3/envs/ds/lib/python3.7/cmd.py\", line 126, in cmdloop\n    line = input(self.prompt)\nRuntimeError: input(): lost sys.stdin\n\"\"\"",
      "\nThe above exception was the direct cause of the following exception:\n",
      "\u001b[0;31mRuntimeError\u001b[0m                              Traceback (most recent call last)",
      "\u001b[0;32m<ipython-input-3-59532ca0b504>\u001b[0m in \u001b[0;36m<module>\u001b[0;34m\u001b[0m\n\u001b[1;32m      5\u001b[0m \u001b[0;34m\u001b[0m\u001b[0m\n\u001b[1;32m      6\u001b[0m \u001b[0mwrapper\u001b[0m \u001b[0;34m=\u001b[0m \u001b[0mParallelWrapper\u001b[0m\u001b[0;34m(\u001b[0m\u001b[0mlocation\u001b[0m\u001b[0;34m)\u001b[0m\u001b[0;34m\u001b[0m\u001b[0;34m\u001b[0m\u001b[0m\n\u001b[0;32m----> 7\u001b[0;31m \u001b[0mresults_bifacial\u001b[0m \u001b[0;34m=\u001b[0m \u001b[0mwrapper\u001b[0m\u001b[0;34m.\u001b[0m\u001b[0mparallel_run\u001b[0m\u001b[0;34m(\u001b[0m\u001b[0mland_costs\u001b[0m\u001b[0;34m,\u001b[0m \u001b[0minvest_kwp\u001b[0m\u001b[0;34m,\u001b[0m \u001b[0mlocation\u001b[0m\u001b[0;34m)\u001b[0m\u001b[0;34m\u001b[0m\u001b[0;34m\u001b[0m\u001b[0m\n\u001b[0m\u001b[1;32m      8\u001b[0m \u001b[0mresults_front\u001b[0m \u001b[0;34m=\u001b[0m \u001b[0mwrapper\u001b[0m\u001b[0;34m.\u001b[0m\u001b[0mparallel_run\u001b[0m\u001b[0;34m(\u001b[0m\u001b[0mland_costs\u001b[0m\u001b[0;34m,\u001b[0m \u001b[0minvest_kwp\u001b[0m\u001b[0;34m,\u001b[0m \u001b[0mlocation\u001b[0m\u001b[0;34m,\u001b[0m \u001b[0mbifacial\u001b[0m\u001b[0;34m=\u001b[0m\u001b[0;32mFalse\u001b[0m\u001b[0;34m)\u001b[0m\u001b[0;34m\u001b[0m\u001b[0;34m\u001b[0m\u001b[0m\n\u001b[1;32m      9\u001b[0m \u001b[0;34m\u001b[0m\u001b[0m\n",
      "\u001b[0;32m<ipython-input-2-94e677636b1e>\u001b[0m in \u001b[0;36mparallel_run\u001b[0;34m(self, land_costs, invest_kwp, location, bifacial)\u001b[0m\n\u001b[1;32m     22\u001b[0m         return Parallel(n_jobs=4)(delayed(cached_run)\\\n\u001b[1;32m     23\u001b[0m                        \u001b[0;34m(\u001b[0m\u001b[0mself\u001b[0m\u001b[0;34m.\u001b[0m\u001b[0mdf\u001b[0m\u001b[0;34m,\u001b[0m \u001b[0mland_cost\u001b[0m\u001b[0;34m,\u001b[0m \u001b[0minvest_kwp\u001b[0m\u001b[0;34m,\u001b[0m  \u001b[0mbifacial\u001b[0m\u001b[0;34m=\u001b[0m\u001b[0mbifacial\u001b[0m\u001b[0;34m)\u001b[0m\u001b[0;34m\u001b[0m\u001b[0;34m\u001b[0m\u001b[0m\n\u001b[0;32m---> 24\u001b[0;31m                        for land_cost in land_costs)\n\u001b[0m\u001b[1;32m     25\u001b[0m \u001b[0;34m\u001b[0m\u001b[0m\n\u001b[1;32m     26\u001b[0m \u001b[0;32mdef\u001b[0m \u001b[0mprocess_results\u001b[0m\u001b[0;34m(\u001b[0m\u001b[0mresults\u001b[0m\u001b[0;34m)\u001b[0m\u001b[0;34m:\u001b[0m\u001b[0;34m\u001b[0m\u001b[0;34m\u001b[0m\u001b[0m\n",
      "\u001b[0;32m~/anaconda3/envs/ds/lib/python3.7/site-packages/joblib/parallel.py\u001b[0m in \u001b[0;36m__call__\u001b[0;34m(self, iterable)\u001b[0m\n\u001b[1;32m    932\u001b[0m \u001b[0;34m\u001b[0m\u001b[0m\n\u001b[1;32m    933\u001b[0m             \u001b[0;32mwith\u001b[0m \u001b[0mself\u001b[0m\u001b[0;34m.\u001b[0m\u001b[0m_backend\u001b[0m\u001b[0;34m.\u001b[0m\u001b[0mretrieval_context\u001b[0m\u001b[0;34m(\u001b[0m\u001b[0;34m)\u001b[0m\u001b[0;34m:\u001b[0m\u001b[0;34m\u001b[0m\u001b[0;34m\u001b[0m\u001b[0m\n\u001b[0;32m--> 934\u001b[0;31m                 \u001b[0mself\u001b[0m\u001b[0;34m.\u001b[0m\u001b[0mretrieve\u001b[0m\u001b[0;34m(\u001b[0m\u001b[0;34m)\u001b[0m\u001b[0;34m\u001b[0m\u001b[0;34m\u001b[0m\u001b[0m\n\u001b[0m\u001b[1;32m    935\u001b[0m             \u001b[0;31m# Make sure that we get a last message telling us we are done\u001b[0m\u001b[0;34m\u001b[0m\u001b[0;34m\u001b[0m\u001b[0;34m\u001b[0m\u001b[0m\n\u001b[1;32m    936\u001b[0m             \u001b[0melapsed_time\u001b[0m \u001b[0;34m=\u001b[0m \u001b[0mtime\u001b[0m\u001b[0;34m.\u001b[0m\u001b[0mtime\u001b[0m\u001b[0;34m(\u001b[0m\u001b[0;34m)\u001b[0m \u001b[0;34m-\u001b[0m \u001b[0mself\u001b[0m\u001b[0;34m.\u001b[0m\u001b[0m_start_time\u001b[0m\u001b[0;34m\u001b[0m\u001b[0;34m\u001b[0m\u001b[0m\n",
      "\u001b[0;32m~/anaconda3/envs/ds/lib/python3.7/site-packages/joblib/parallel.py\u001b[0m in \u001b[0;36mretrieve\u001b[0;34m(self)\u001b[0m\n\u001b[1;32m    831\u001b[0m             \u001b[0;32mtry\u001b[0m\u001b[0;34m:\u001b[0m\u001b[0;34m\u001b[0m\u001b[0;34m\u001b[0m\u001b[0m\n\u001b[1;32m    832\u001b[0m                 \u001b[0;32mif\u001b[0m \u001b[0mgetattr\u001b[0m\u001b[0;34m(\u001b[0m\u001b[0mself\u001b[0m\u001b[0;34m.\u001b[0m\u001b[0m_backend\u001b[0m\u001b[0;34m,\u001b[0m \u001b[0;34m'supports_timeout'\u001b[0m\u001b[0;34m,\u001b[0m \u001b[0;32mFalse\u001b[0m\u001b[0;34m)\u001b[0m\u001b[0;34m:\u001b[0m\u001b[0;34m\u001b[0m\u001b[0;34m\u001b[0m\u001b[0m\n\u001b[0;32m--> 833\u001b[0;31m                     \u001b[0mself\u001b[0m\u001b[0;34m.\u001b[0m\u001b[0m_output\u001b[0m\u001b[0;34m.\u001b[0m\u001b[0mextend\u001b[0m\u001b[0;34m(\u001b[0m\u001b[0mjob\u001b[0m\u001b[0;34m.\u001b[0m\u001b[0mget\u001b[0m\u001b[0;34m(\u001b[0m\u001b[0mtimeout\u001b[0m\u001b[0;34m=\u001b[0m\u001b[0mself\u001b[0m\u001b[0;34m.\u001b[0m\u001b[0mtimeout\u001b[0m\u001b[0;34m)\u001b[0m\u001b[0;34m)\u001b[0m\u001b[0;34m\u001b[0m\u001b[0;34m\u001b[0m\u001b[0m\n\u001b[0m\u001b[1;32m    834\u001b[0m                 \u001b[0;32melse\u001b[0m\u001b[0;34m:\u001b[0m\u001b[0;34m\u001b[0m\u001b[0;34m\u001b[0m\u001b[0m\n\u001b[1;32m    835\u001b[0m                     \u001b[0mself\u001b[0m\u001b[0;34m.\u001b[0m\u001b[0m_output\u001b[0m\u001b[0;34m.\u001b[0m\u001b[0mextend\u001b[0m\u001b[0;34m(\u001b[0m\u001b[0mjob\u001b[0m\u001b[0;34m.\u001b[0m\u001b[0mget\u001b[0m\u001b[0;34m(\u001b[0m\u001b[0;34m)\u001b[0m\u001b[0;34m)\u001b[0m\u001b[0;34m\u001b[0m\u001b[0;34m\u001b[0m\u001b[0m\n",
      "\u001b[0;32m~/anaconda3/envs/ds/lib/python3.7/site-packages/joblib/_parallel_backends.py\u001b[0m in \u001b[0;36mwrap_future_result\u001b[0;34m(future, timeout)\u001b[0m\n\u001b[1;32m    519\u001b[0m         AsyncResults.get from multiprocessing.\"\"\"\n\u001b[1;32m    520\u001b[0m         \u001b[0;32mtry\u001b[0m\u001b[0;34m:\u001b[0m\u001b[0;34m\u001b[0m\u001b[0;34m\u001b[0m\u001b[0m\n\u001b[0;32m--> 521\u001b[0;31m             \u001b[0;32mreturn\u001b[0m \u001b[0mfuture\u001b[0m\u001b[0;34m.\u001b[0m\u001b[0mresult\u001b[0m\u001b[0;34m(\u001b[0m\u001b[0mtimeout\u001b[0m\u001b[0;34m=\u001b[0m\u001b[0mtimeout\u001b[0m\u001b[0;34m)\u001b[0m\u001b[0;34m\u001b[0m\u001b[0;34m\u001b[0m\u001b[0m\n\u001b[0m\u001b[1;32m    522\u001b[0m         \u001b[0;32mexcept\u001b[0m \u001b[0mLokyTimeoutError\u001b[0m\u001b[0;34m:\u001b[0m\u001b[0;34m\u001b[0m\u001b[0;34m\u001b[0m\u001b[0m\n\u001b[1;32m    523\u001b[0m             \u001b[0;32mraise\u001b[0m \u001b[0mTimeoutError\u001b[0m\u001b[0;34m(\u001b[0m\u001b[0;34m)\u001b[0m\u001b[0;34m\u001b[0m\u001b[0;34m\u001b[0m\u001b[0m\n",
      "\u001b[0;32m~/anaconda3/envs/ds/lib/python3.7/concurrent/futures/_base.py\u001b[0m in \u001b[0;36mresult\u001b[0;34m(self, timeout)\u001b[0m\n\u001b[1;32m    430\u001b[0m                 \u001b[0;32mraise\u001b[0m \u001b[0mCancelledError\u001b[0m\u001b[0;34m(\u001b[0m\u001b[0;34m)\u001b[0m\u001b[0;34m\u001b[0m\u001b[0;34m\u001b[0m\u001b[0m\n\u001b[1;32m    431\u001b[0m             \u001b[0;32melif\u001b[0m \u001b[0mself\u001b[0m\u001b[0;34m.\u001b[0m\u001b[0m_state\u001b[0m \u001b[0;34m==\u001b[0m \u001b[0mFINISHED\u001b[0m\u001b[0;34m:\u001b[0m\u001b[0;34m\u001b[0m\u001b[0;34m\u001b[0m\u001b[0m\n\u001b[0;32m--> 432\u001b[0;31m                 \u001b[0;32mreturn\u001b[0m \u001b[0mself\u001b[0m\u001b[0;34m.\u001b[0m\u001b[0m__get_result\u001b[0m\u001b[0;34m(\u001b[0m\u001b[0;34m)\u001b[0m\u001b[0;34m\u001b[0m\u001b[0;34m\u001b[0m\u001b[0m\n\u001b[0m\u001b[1;32m    433\u001b[0m             \u001b[0;32melse\u001b[0m\u001b[0;34m:\u001b[0m\u001b[0;34m\u001b[0m\u001b[0;34m\u001b[0m\u001b[0m\n\u001b[1;32m    434\u001b[0m                 \u001b[0;32mraise\u001b[0m \u001b[0mTimeoutError\u001b[0m\u001b[0;34m(\u001b[0m\u001b[0;34m)\u001b[0m\u001b[0;34m\u001b[0m\u001b[0;34m\u001b[0m\u001b[0m\n",
      "\u001b[0;32m~/anaconda3/envs/ds/lib/python3.7/concurrent/futures/_base.py\u001b[0m in \u001b[0;36m__get_result\u001b[0;34m(self)\u001b[0m\n\u001b[1;32m    382\u001b[0m     \u001b[0;32mdef\u001b[0m \u001b[0m__get_result\u001b[0m\u001b[0;34m(\u001b[0m\u001b[0mself\u001b[0m\u001b[0;34m)\u001b[0m\u001b[0;34m:\u001b[0m\u001b[0;34m\u001b[0m\u001b[0;34m\u001b[0m\u001b[0m\n\u001b[1;32m    383\u001b[0m         \u001b[0;32mif\u001b[0m \u001b[0mself\u001b[0m\u001b[0;34m.\u001b[0m\u001b[0m_exception\u001b[0m\u001b[0;34m:\u001b[0m\u001b[0;34m\u001b[0m\u001b[0;34m\u001b[0m\u001b[0m\n\u001b[0;32m--> 384\u001b[0;31m             \u001b[0;32mraise\u001b[0m \u001b[0mself\u001b[0m\u001b[0;34m.\u001b[0m\u001b[0m_exception\u001b[0m\u001b[0;34m\u001b[0m\u001b[0;34m\u001b[0m\u001b[0m\n\u001b[0m\u001b[1;32m    385\u001b[0m         \u001b[0;32melse\u001b[0m\u001b[0;34m:\u001b[0m\u001b[0;34m\u001b[0m\u001b[0;34m\u001b[0m\u001b[0m\n\u001b[1;32m    386\u001b[0m             \u001b[0;32mreturn\u001b[0m \u001b[0mself\u001b[0m\u001b[0;34m.\u001b[0m\u001b[0m_result\u001b[0m\u001b[0;34m\u001b[0m\u001b[0;34m\u001b[0m\u001b[0m\n",
      "\u001b[0;31mRuntimeError\u001b[0m: input(): lost sys.stdin"
     ]
    }
   ],
   "source": [
    "land_costs = np.array([1, 2.5, 5 ,10 ,20])\n",
    "invest_kwp = 1500\n",
    "\n",
    "location = 'dallas'\n",
    "\n",
    "wrapper = ParallelWrapper(location)\n",
    "results_bifacial = wrapper.parallel_run(land_costs, invest_kwp, location)\n",
    "results_front = wrapper.parallel_run(land_costs, invest_kwp, location, bifacial=False)\n",
    "\n",
    "stats_bifacial = process_results(results_bifacial)\n",
    "stats_front = process_results(results_front)"
   ]
  },
  {
   "cell_type": "code",
   "execution_count": null,
   "metadata": {},
   "outputs": [],
   "source": [
    "for result in results_bifacial:\n",
    "    plot_objective(result)"
   ]
  },
  {
   "cell_type": "code",
   "execution_count": null,
   "metadata": {},
   "outputs": [],
   "source": [
    "for result in results_front:\n",
    "    plot_objective(result)"
   ]
  },
  {
   "cell_type": "code",
   "execution_count": null,
   "metadata": {},
   "outputs": [],
   "source": []
  }
 ],
 "metadata": {
  "kernelspec": {
   "display_name": "Python 3",
   "language": "python",
   "name": "python3"
  },
  "language_info": {
   "codemirror_mode": {
    "name": "ipython",
    "version": 3
   },
   "file_extension": ".py",
   "mimetype": "text/x-python",
   "name": "python",
   "nbconvert_exporter": "python",
   "pygments_lexer": "ipython3",
   "version": "3.7.1"
  }
 },
 "nbformat": 4,
 "nbformat_minor": 2
}
