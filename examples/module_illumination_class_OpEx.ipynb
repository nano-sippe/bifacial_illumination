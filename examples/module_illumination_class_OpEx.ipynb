{
 "cells": [
  {
   "cell_type": "markdown",
   "metadata": {},
   "source": [
    "# A class for module illumination\n",
    "Klaus Jäger, 2 October 2019\n",
    "\n",
    "This code generates the figures used for publication."
   ]
  },
  {
   "cell_type": "code",
   "execution_count": 1,
   "metadata": {},
   "outputs": [],
   "source": [
    "import numpy as np\n",
    "import matplotlib.pyplot as plt\n",
    "import time\n",
    "from matplotlib import rc\n",
    "from matplotlib.patches import Rectangle\n",
    "import pysolar.solar as sol\n",
    "import datetime\n",
    "import timeit\n",
    "from bifacial_illumination import ModuleIllumination\n",
    "%matplotlib inline"
   ]
  },
  {
   "cell_type": "markdown",
   "metadata": {},
   "source": [
    "### Preamble"
   ]
  },
  {
   "cell_type": "raw",
   "metadata": {},
   "source": [
    "IRRADIANCE-KOMPONENTEN AUF DEM MODUL\n",
    "(alle Komponenten werden ins Dictionary geschrieben)\n",
    "\n",
    "Arrays mit Länge \"module_steps\":\n",
    "-------------------------------------------------\n",
    "irradiance_module_front_sky_direct\n",
    "irradiance_module_back_sky_direct\n",
    "irradiance_module_front_sky_diffuse\n",
    "irradiance_module_back_sky_diffuse\n",
    "irradiance_module_front_ground_diffuse\n",
    "irradiance_module_back_ground_diffuse\n",
    "irradiance_module_front_ground_direct\n",
    "irradiance_module_back_ground_direct\n",
    "\n",
    "Zahlenwerte:\n",
    "------------\n",
    "irradiance_module_front_sky_direct_mean\n",
    "irradiance_module_back_sky_direct_mean\n",
    "irradiance_module_front_sky_diffuse_mean\n",
    "irradiance_module_back_sky_diffuse_mean\n",
    "irradiance_module_front_ground_diffuse_mean\n",
    "irradiance_module_back_ground_diffuse_mean\n",
    "irradiance_module_front_ground_direct_mean\n",
    "irradiance_module_back_ground_direct_mean"
   ]
  },
  {
   "cell_type": "markdown",
   "metadata": {},
   "source": [
    "### Class definition"
   ]
  },
  {
   "cell_type": "markdown",
   "metadata": {},
   "source": [
    "### Test the class"
   ]
  },
  {
   "cell_type": "code",
   "execution_count": 2,
   "metadata": {},
   "outputs": [],
   "source": [
    "# Define the dictionary for the class\n",
    "inputs = {\n",
    "    'module_length': 1.960,# module length, standard is 1650 mm or 1960 mm\n",
    "    'module_tilt': 52., # Angle of the module with respect to the ground (first guess optimal theta_m = latitude on Earth)\n",
    "    'module_spacing': 7.3, # distance between modules\n",
    "    'mount_height': 0.500, # height of module base above ground\n",
    "    'dni': 1, # direct normal irradiance\n",
    "    'dhi': 1, # diffuse horizontal irradiance\n",
    "    'zenith_sun': 90-32.8, # zenith of the Sun (Berlin, 2019-09-20, 11:00 CEST)\n",
    "    'azimuth_sun': 143.3, # azimuth of the Sun (Berlin, 2019-09-20, 11:00 CEST)\n",
    "    'albedo': 0.3, # albedo of the ground\n",
    "    'ground_steps': 101, #number of steps into which irradiance on the ground is evaluated in the interval [0,D]\n",
    "    'module_steps': 12, # SET THIS NUMBER HIGHER FOR REAL EVALUATION! (SUGGESTION 20) number of lengths steps at which irradiance is evaluated on the module\n",
    "    'angle_steps': 180 # Number at which angle discretization of ground light on module should be set\n",
    "}"
   ]
  },
  {
   "cell_type": "code",
   "execution_count": 3,
   "metadata": {},
   "outputs": [],
   "source": [
    "GI = ModuleIllumination(**inputs)"
   ]
  },
  {
   "cell_type": "code",
   "execution_count": 4,
   "metadata": {},
   "outputs": [
    {
     "name": "stderr",
     "output_type": "stream",
     "text": [
      "/home/peter/anaconda3/envs/ds/lib/python3.7/site-packages/pysolar/solartime.py:112: UserWarning: I don't know about leap seconds after 2018\n",
      "  (leap_seconds_base_year + len(leap_seconds_adjustments) - 1)\n",
      "/home/peter/workspace/bifacial_illumination/bifacial_illumination/geo.py:70: UserWarning: Zenith angle larger then 90 deg was passed to simulation. Zenith angle is truncted to 90.\n",
      "  warnings.warn('Zenith angle larger then 90 deg was passed to simulation. Zenith angle is truncted to 90.')\n"
     ]
    }
   ],
   "source": [
    "hour_range = np.linspace(4,21,18,dtype = int)\n",
    "minute_range = np.linspace(0,50,6,dtype = int)\n",
    "time_array = np.zeros(len(hour_range)*len(minute_range))\n",
    "ground_direct = np.zeros([3, len(hour_range)*len(minute_range), inputs['ground_steps']])\n",
    "month_array = [6, 8, 11]\n",
    "\n",
    "zenith_arr = []\n",
    "azimuth_arr = []\n",
    "\n",
    "for k,month in enumerate(month_array):\n",
    "    for i,hh in enumerate(hour_range):\n",
    "        #print(hh,'o clock')\n",
    "        for j,mm in enumerate(minute_range):\n",
    "            time_array[6*i+j] = hh + mm/60\n",
    "            date_temp = datetime.datetime(2019, month, 20, hh, mm, 0, 0, tzinfo = datetime.timezone(datetime.timedelta(hours=2)) )\n",
    "            zenith_arr.append(90 - sol.get_altitude(52.5, 13.25, date_temp))\n",
    "            azimuth_arr.append(sol.get_azimuth(52.5, 13.25, date_temp))\n",
    "           \n",
    "zenith_arr = np.array(zenith_arr)\n",
    "azimuth_arr = np.array(azimuth_arr)\n",
    "inputs.update({'zenith_sun':zenith_arr, 'azimuth_sun':azimuth_arr})\n",
    "\n",
    "GI = ModuleIllumination(**inputs)\n",
    "\n",
    "#calculating irrdiance from radiance\n",
    "ground_direct = (GI.results['radiance_ground_direct_emitted'] * np.pi / GI.albedo).reshape(3,108,-1)"
   ]
  },
  {
   "cell_type": "markdown",
   "metadata": {},
   "source": [
    "## Figures for OpEx"
   ]
  },
  {
   "cell_type": "code",
   "execution_count": 5,
   "metadata": {},
   "outputs": [],
   "source": [
    "plt.rcParams['font.size'] = 8.0\n",
    "plt.rcParams['text.latex.preamble'] = r'\\usepackage{arev}'\n",
    "rc('text', usetex=True)"
   ]
  },
  {
   "cell_type": "code",
   "execution_count": 6,
   "metadata": {},
   "outputs": [],
   "source": [
    "y_ticks = np.linspace(0,96,9,dtype=int)\n",
    "x_ticks = [0,28,55,82]"
   ]
  },
  {
   "cell_type": "code",
   "execution_count": 7,
   "metadata": {},
   "outputs": [
    {
     "data": {
      "image/png": "[encoded data removed]",
      "text/plain": [
       "<Figure size 144x144 with 1 Axes>"
      ]
     },
     "metadata": {
      "needs_background": "light"
     },
     "output_type": "display_data"
    },
    {
     "data": {
      "image/png": "[encoded data removed]",
      "text/plain": [
       "<Figure size 144x144 with 1 Axes>"
      ]
     },
     "metadata": {
      "needs_background": "light"
     },
     "output_type": "display_data"
    },
    {
     "data": {
      "image/png": "[encoded data removed]",
      "text/plain": [
       "<Figure size 144x144 with 1 Axes>"
      ]
     },
     "metadata": {
      "needs_background": "light"
     },
     "output_type": "display_data"
    }
   ],
   "source": [
    "for i in range(3):\n",
    "    fig, ax = plt.subplots(figsize=(2,2))\n",
    "    im = ax.imshow(ground_direct[i],origin='lower',vmax=0.88)\n",
    "    ax.set_xticks(x_ticks)\n",
    "    ax.set_xticklabels(np.round(GI.x_g_array[x_ticks],1))\n",
    "    ax.set_yticks(y_ticks)\n",
    "    ax.set_yticklabels(time_array[y_ticks])\n",
    "    ax.set_xlabel('distance (m)')\n",
    "    ax.set_ylabel('time (h)')\n",
    "    figname = 'figures/ground_illum_{}.pdf'.format(i)\n",
    "    plt.tight_layout()\n",
    "    #plt.savefig(figname, format='pdf', dpi=300)\n",
    "    plt.show()"
   ]
  },
  {
   "cell_type": "markdown",
   "metadata": {},
   "source": [
    "### Other figures for publications (OpEx)\n",
    "Figures made on 20191111 and 20191112."
   ]
  },
  {
   "cell_type": "code",
   "execution_count": 8,
   "metadata": {},
   "outputs": [],
   "source": [
    "colors = ['#1f77b4','#ff7f0e','#396686','#c28249']\n",
    "LightGrey = '#AAAAAA'\n",
    "LightestGrey = '#EEEEEE'\n",
    "DarkBlue = '#2D2F92'\n",
    "plt.rcParams['font.size'] = 8.0\n",
    "plt.rcParams['text.latex.preamble'] = r'\\usepackage{arev}'\n",
    "rc('text', usetex=True)"
   ]
  },
  {
   "cell_type": "code",
   "execution_count": 9,
   "metadata": {},
   "outputs": [],
   "source": [
    "dt_1152 = datetime.datetime(2019, 6, 20, 11, 52, 0, 0, tzinfo = datetime.timezone(datetime.timedelta(hours=2)))\n",
    "dt_1238 = datetime.datetime(2019, 6, 20, 12, 38, 0, tzinfo = datetime.timezone(datetime.timedelta(hours=2)))\n",
    "inputs.update({\n",
    "    'dni': 0, # direct normal irradiance\n",
    "    'dhi': 440, # diffuse horizontal irradiance\n",
    "    'zenith_sun': 90-sol.get_altitude(52.5, 13.25, dt_1152), # zenith of the Sun (Berlin, 2019-09-20, 11:00 CEST)\n",
    "    'azimuth_sun': sol.get_azimuth(52.5, 13.25, dt_1152), # azimuth of the Sun (Berlin, 2019-09-20, 11:00 CEST)\n",
    "})\n",
    "GI_1152 = ModuleIllumination(**inputs)\n",
    "inputs.update({\n",
    "    'dni': 883, # direct normal irradiance\n",
    "    'dhi': 134, # diffuse horizontal irradiance\n",
    "    'zenith_sun': 90-sol.get_altitude(52.5, 13.25, dt_1238), # zenith of the Sun (Berlin, 2019-09-20, 16:00 CEST)\n",
    "    'azimuth_sun': sol.get_azimuth(52.5, 13.25, dt_1238), # azimuth of the Sun (Berlin, 2019-09-20, 16:00 CEST)\n",
    "})\n",
    "GI_1238 = ModuleIllumination(**inputs)"
   ]
  },
  {
   "cell_type": "code",
   "execution_count": 10,
   "metadata": {},
   "outputs": [],
   "source": [
    "irr_f = np.zeros([2,len(GI_1152.l_array)])\n",
    "irr_b = np.zeros([2,len(GI_1152.l_array)])\n",
    "for i,sg in enumerate(['sky','ground']):\n",
    "    for k,dd in enumerate(['diffuse','direct']):\n",
    "        irr_f[0] += GI_1152.results['irradiance_module_front_'+sg+'_'+dd]\n",
    "        irr_b[0] += GI_1152.results['irradiance_module_back_'+sg+'_'+dd]\n",
    "        irr_f[1] += GI_1238.results['irradiance_module_front_'+sg+'_'+dd]\n",
    "        irr_b[1] += GI_1238.results['irradiance_module_back_'+sg+'_'+dd]\n",
    "irr_t = irr_f + irr_b"
   ]
  },
  {
   "cell_type": "code",
   "execution_count": 11,
   "metadata": {},
   "outputs": [
    {
     "data": {
      "image/png": "[encoded data removed]",
      "text/plain": [
       "<Figure size 243x288 with 2 Axes>"
      ]
     },
     "metadata": {
      "needs_background": "light"
     },
     "output_type": "display_data"
    }
   ],
   "source": [
    "fig, (ax1, ax2) = plt.subplots(2,1,figsize=(3.375, 4))\n",
    "for i in range(2):\n",
    "    if i == 0:\n",
    "        ax = ax1\n",
    "        subfig = r'\\textbf{(a)}'\n",
    "    else:\n",
    "        ax = ax2\n",
    "        subfig = r'\\textbf{(b)}'\n",
    "    ax.plot(GI_1152.l_array,irr_t[i],'-',label='total',color = colors[1])\n",
    "    ax.plot(GI_1152.l_array,irr_f[i],'-',label='front',color = colors[0]) #, mfc = insidecolor)\n",
    "    ax.plot(GI_1152.l_array,irr_b[i],'-',label='back',color = 'grey')\n",
    "    ax.legend(frameon=False,fontsize=7)\n",
    "    if i == 0:\n",
    "        ymax = 550\n",
    "        ax.set_ylim(0,ymax)\n",
    "        ax.text(-.5,.97*ymax,r'\\textbf{(a)}')\n",
    "        ax.text(.05,.53*ymax,'11:52 CEST')\n",
    "        ax.text(.05,.41*ymax,'DNI: \\phantom{00}0 W/m$^2$')\n",
    "        ax.text(.05,.29*ymax,'DHI: 440 W/m$^2$')\n",
    "        ax.xaxis.tick_top()\n",
    "        ax.set_xticklabels([])\n",
    "    else:\n",
    "        ymax = 1200\n",
    "        ax.set_ylim(0,ymax)\n",
    "        ax.text(-.5,.97*ymax,r'\\textbf{(b)}')\n",
    "        ax.text(.05,.6*ymax,'12:38 CEST')\n",
    "        ax.text(.05,.48*ymax,'DNI: 883 W/m$^2$')\n",
    "        ax.text(.05,.36*ymax,'DHI: 134 W/m$^2$')\n",
    "        ax.set_xlabel('position on module $s$ (m)')\n",
    "\n",
    "   \n",
    "    ax.set_ylabel('irradiance (W/m$^2$)')\n",
    "    \n",
    "    ax.set_xlim(0,2)\n",
    "fig.align_ylabels()\n",
    "plt.tight_layout()\n",
    "plt.show()"
   ]
  },
  {
   "cell_type": "markdown",
   "metadata": {},
   "source": [
    "### Other figures"
   ]
  },
  {
   "cell_type": "code",
   "execution_count": 12,
   "metadata": {},
   "outputs": [],
   "source": [
    "date = datetime.datetime(2019, 6, 20, 11, 52, 0, 0, tzinfo = datetime.timezone(datetime.timedelta(hours=2)) )\n",
    "# Define the dictionary for the class\n",
    "inputs.update({\n",
    "    'dni': 1, # direct normal irradiance\n",
    "    'dhi': 1, # diffuse horizontal irradiance\n",
    "    'zenith_sun': 90-sol.get_altitude(52.5, 13.25, date), # zenith of the Sun (Berlin, 2019-09-20, 11:00 CEST)\n",
    "    'azimuth_sun': sol.get_azimuth(52.5, 13.25, date), # azimuth of the Sun (Berlin, 2019-09-20, 11:00 CEST)\n",
    "})\n",
    "GI = ModuleIllumination(**inputs)"
   ]
  },
  {
   "cell_type": "code",
   "execution_count": 13,
   "metadata": {},
   "outputs": [
    {
     "data": {
      "image/png": "[encoded data removed]",
      "text/plain": [
       "<Figure size 243x194.4 with 2 Axes>"
      ]
     },
     "metadata": {
      "needs_background": "light"
     },
     "output_type": "display_data"
    }
   ],
   "source": [
    "# PARAMETERS OF THE MODULE LINE\n",
    "d = inputs['module_spacing']\n",
    "l = inputs['module_length']\n",
    "h = inputs['mount_height']\n",
    "theta_m = inputs['module_tilt']\n",
    "k_m = np.tan(theta_m*np.pi/180.)\n",
    "d_m = 0.0\n",
    "\n",
    "\n",
    "\n",
    "mod_func = k_m*GI.x_g_array\n",
    "h_mod = l*np.sin(theta_m*np.pi/180.)\n",
    "w_mod = l*np.cos(theta_m*np.pi/180.)\n",
    "\n",
    "id_mod = np.where(mod_func <= h_mod)\n",
    "id_mod = id_mod[0][:-1] # remove last element\n",
    "\n",
    "\n",
    "x_mod_array = GI.x_g_array[id_mod]\n",
    "y_mod_array = mod_func[id_mod]\n",
    "  \n",
    "irr_ground_diff = GI.results['radiance_ground_diffuse_emitted'] * np.pi/GI.albedo\n",
    "irr_ground_dir = GI.results['radiance_ground_direct_emitted'] * np.pi/GI.albedo\n",
    "\n",
    "x_shadow = -h/np.tan(theta_m*np.pi/180.)\n",
    "\n",
    "fig, (ax1, ax2) = plt.subplots(2, 1, figsize=(3.375, 2.7))\n",
    "\n",
    "# AXIS 1\n",
    "ax1.add_patch(Rectangle((0, -h), d, h+h_mod+.2, color = LightestGrey))\n",
    "ax1.axhline(0,color = LightGrey,linewidth = 0.5) \n",
    "for i,x_off in enumerate([0,d]): #x_off ... x offset\n",
    "    ax1.axvline(x_off,color = LightGrey,linewidth = 0.5) \n",
    "    ax1.axvline(w_mod+x_off,color = LightGrey,linewidth = 0.5)    \n",
    "    ax1.plot(np.array([x_shadow,0])+x_off,[-h,0],linewidth = 0.5, color='Grey')\n",
    "    ax1.plot(x_mod_array+x_off,y_mod_array,linewidth = 4, color='DarkBlue')\n",
    "    ax1.plot(x_shadow+x_off,-h,'d',color='k')\n",
    "    ax1.text(0.07+x_off,1.0,'\\#{}'.format(i+1),rotation = theta_m)\n",
    "    ax1.text(x_shadow+x_off,-h+0.1,'$x\\'$',horizontalalignment='right')\n",
    "\n",
    "ax1.text(-3,2.2,r'\\textbf{(a)}')\n",
    "ax1.text(w_mod+.3,-h+.1,'ground')\n",
    "ax1.xaxis.tick_top()\n",
    "ax1.set_ylabel('$z$ (m)')\n",
    "ax1.set_xlim(-0.95,8.5)\n",
    "ax1.set_ylim(-.5,h_mod+.2)\n",
    "ax1.set_yticks(np.linspace(-.5,1.5,5))\n",
    "ax1.set_aspect('equal')\n",
    "\n",
    "# AXIS 2\n",
    "ax2.add_patch(Rectangle((0, 0), d, 1.1, color = LightestGrey))\n",
    "for i,x_off in enumerate([-d,0,d]):\n",
    "    ax2.axvline(d+x_off,color = LightGrey,linewidth = 0.5)\n",
    "    ax2.axvline(w_mod+x_off,color = LightGrey,linewidth = 0.5)\n",
    "    ax2.plot(GI.x_g_array+x_off,irr_ground_diff,'-',color = colors[0],label=['','diffuse',''][i])\n",
    "    ax2.plot(GI.x_g_array+x_off,irr_ground_dir,'-',color = colors[1],label=['','direct',''][i])\n",
    "\n",
    "ax2.set_xlabel('position on ground $x_g$ (m)')\n",
    "ax2.set_ylabel('g.d.f.\\ $\\gamma$ (--)')\n",
    "ax2.legend(loc=(.55,0),frameon=False,facecolor = 'w')\n",
    "ax2.text(-3,1.1,r'\\textbf{(b)}')\n",
    "ax2.set_xlim(-0.95,8.5)\n",
    "ax2.set_ylim(0.,1.1)\n",
    "\n",
    "fig.subplots_adjust(hspace=-.5)\n",
    "fig.align_ylabels()\n",
    "figname = 'figures/irradiance_ground_OpEx.pdf'\n",
    "plt.tight_layout()"
   ]
  },
  {
   "cell_type": "code",
   "execution_count": 14,
   "metadata": {},
   "outputs": [
    {
     "data": {
      "image/png": "[encoded data removed]",
      "text/plain": [
       "<Figure size 243x288 with 2 Axes>"
      ]
     },
     "metadata": {
      "needs_background": "light"
     },
     "output_type": "display_data"
    }
   ],
   "source": [
    "fig, (ax1, ax2) = plt.subplots(2,1,figsize=(3.375, 4))\n",
    "for i,sg in enumerate(['sky','ground']):\n",
    "    if i == 0:\n",
    "        ax = ax1\n",
    "        subfig = r'\\textbf{(a)}'\n",
    "    else:\n",
    "        ax = ax2\n",
    "        subfig = r'\\textbf{(b)}'\n",
    "    for fb in ['front','back']:\n",
    "\n",
    "        for k,dd in enumerate(['diffuse','direct']):\n",
    "            k += 2*i\n",
    "            if fb == 'front':\n",
    "                linestyle = '-'\n",
    "            else:\n",
    "                linestyle= '--'\n",
    "\n",
    "            ax.plot(GI.l_array,GI.results['irradiance_module_'+fb+'_'+sg+'_'+dd],linestyle,label=fb+', '+dd,color = colors[k]) #, mfc = insidecolor)\n",
    "    ax.legend(frameon=False,fontsize=6)\n",
    "    if i == 0:\n",
    "        \n",
    "        ax.set_ylim(0,.95)\n",
    "        ax.text(-.45,0.97*.95,r'\\textbf{(a)}')\n",
    "        ax.text(.05,.4*.95,'illumination from')\n",
    "        ax.text(.05,.28*.95,'the sky')\n",
    "        ax.xaxis.tick_top()\n",
    "        ax.set_xticklabels([])\n",
    "    else:\n",
    "        ax.set_ylim(0,0.15)\n",
    "        ax.text(-.45,0.97*.15,r'\\textbf{(b)}')\n",
    "        ax.text(.05,.94*.112,'illumination from')\n",
    "        ax.text(.05,.78*.112,'the ground')\n",
    "        ax.set_xlabel('position on module $s$ (m)')\n",
    "        ax.set_yticks(np.linspace(0,.15,6))\n",
    "   \n",
    "    ax.set_ylabel('geom.\\ dist.\\ func.\\ $\\iota$ (--)')\n",
    "    \n",
    "    ax.set_xlim(0,2)\n",
    "fig.align_ylabels()\n",
    "figname = 'figures/irradiance_module_v4.pdf'\n",
    "plt.tight_layout()"
   ]
  },
  {
   "cell_type": "code",
   "execution_count": 15,
   "metadata": {},
   "outputs": [
    {
     "data": {
      "image/png": "[encoded data removed]",
      "text/plain": [
       "<Figure size 432x162 with 2 Axes>"
      ]
     },
     "metadata": {
      "needs_background": "light"
     },
     "output_type": "display_data"
    }
   ],
   "source": [
    "fig, (ax1, ax2) = plt.subplots(1,2,figsize=(6, 2.25))\n",
    "for i,sg in enumerate(['sky','ground']):\n",
    "    if i == 0:\n",
    "        ax = ax1\n",
    "        subfig = r'\\textbf{(a)}'\n",
    "    else:\n",
    "        ax = ax2\n",
    "        subfig = r'\\textbf{(b)}'\n",
    "    for fb in ['front','back']:\n",
    "\n",
    "        for k,dd in enumerate(['diffuse','direct']):\n",
    "            k += 2*i\n",
    "            if fb == 'front':\n",
    "                insidecolor = colors[k]\n",
    "            else:\n",
    "                insidecolor = '#ffffff'\n",
    "\n",
    "            ax.plot(GI.l_array,GI.results['irradiance_module_'+fb+'_'+sg+'_'+dd],'.',label=fb+', '+dd,color = colors[k], mfc = insidecolor)\n",
    "    ax.legend(frameon=False,fontsize=7)\n",
    "    if i == 0:\n",
    "        \n",
    "        ax.set_ylim(0,1)\n",
    "    else:\n",
    "        ax.set_ylim(0,)\n",
    "    ax.set_title(subfig+' illumination from the '+sg)\n",
    "    ax.set_xlabel('position on module $s$ (m)')\n",
    "    ax.set_ylabel('geom.\\ dist.\\ function $\\iota$ (--)')\n",
    "    ax.set_xlim(0,1.65)\n",
    "figname = 'figures/irradiance_module.pdf'\n",
    "plt.tight_layout()"
   ]
  }
 ],
 "metadata": {
  "anaconda-cloud": {},
  "kernelspec": {
   "display_name": "Python 3",
   "language": "python",
   "name": "python3"
  },
  "language_info": {
   "codemirror_mode": {
    "name": "ipython",
    "version": 3
   },
   "file_extension": ".py",
   "mimetype": "text/x-python",
   "name": "python",
   "nbconvert_exporter": "python",
   "pygments_lexer": "ipython3",
   "version": "3.7.3"
  }
 },
 "nbformat": 4,
 "nbformat_minor": 2
}
